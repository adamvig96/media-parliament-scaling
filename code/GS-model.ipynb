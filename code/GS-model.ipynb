{
 "cells": [
  {
   "cell_type": "code",
   "execution_count": 1,
   "metadata": {},
   "outputs": [],
   "source": [
    "import pandas as pd\n",
    "import numpy as np\n",
    "import seaborn as sns\n",
    "import statsmodels.api as sm\n",
    "import warnings\n",
    "import matplotlib.pyplot as plt\n",
    "\n",
    "data_in = \"/Users/vigadam/Dropbox/github/media_network/media_data/media-parliament-scaling/data/input/\"\n",
    "data_out = \"/Users/vigadam/Dropbox/github/media_network/media_data/media-parliament-scaling/data/output/\"\n",
    "warnings.filterwarnings(\"ignore\")"
   ]
  },
  {
   "cell_type": "code",
   "execution_count": 43,
   "metadata": {},
   "outputs": [
    {
     "data": {
      "text/html": [
       "<div>\n",
       "<style scoped>\n",
       "    .dataframe tbody tr th:only-of-type {\n",
       "        vertical-align: middle;\n",
       "    }\n",
       "\n",
       "    .dataframe tbody tr th {\n",
       "        vertical-align: top;\n",
       "    }\n",
       "\n",
       "    .dataframe thead th {\n",
       "        text-align: right;\n",
       "    }\n",
       "</style>\n",
       "<table border=\"1\" class=\"dataframe\">\n",
       "  <thead>\n",
       "    <tr style=\"text-align: right;\">\n",
       "      <th></th>\n",
       "      <th>speaker</th>\n",
       "      <th>speaker_party</th>\n",
       "      <th>type</th>\n",
       "      <th>text</th>\n",
       "    </tr>\n",
       "  </thead>\n",
       "  <tbody>\n",
       "    <tr>\n",
       "      <th>0</th>\n",
       "      <td>Kövér László</td>\n",
       "      <td>Fidesz</td>\n",
       "      <td>Az ülésnap megnyitása...</td>\n",
       "      <td>Tisztelt Országgyűlés! Az Orsz...</td>\n",
       "    </tr>\n",
       "    <tr>\n",
       "      <th>1</th>\n",
       "      <td>Szabó Timea</td>\n",
       "      <td>Párbeszéd</td>\n",
       "      <td>napirend előttihez hozzászólás...</td>\n",
       "      <td>Tisztelt Miniszter Úr! Az ön n...</td>\n",
       "    </tr>\n",
       "    <tr>\n",
       "      <th>2</th>\n",
       "      <td>Dr. Harangozó Tamás</td>\n",
       "      <td>MSZP</td>\n",
       "      <td>azonnali kérdésre adott képvis...</td>\n",
       "      <td>Köszönöm a szót, elnök úr. Err...</td>\n",
       "    </tr>\n",
       "  </tbody>\n",
       "</table>\n",
       "</div>"
      ],
      "text/plain": [
       "               speaker speaker_party                               type  \\\n",
       "0         Kövér László        Fidesz           Az ülésnap megnyitása...   \n",
       "1          Szabó Timea     Párbeszéd  napirend előttihez hozzászólás...   \n",
       "2  Dr. Harangozó Tamás          MSZP  azonnali kérdésre adott képvis...   \n",
       "\n",
       "                                text  \n",
       "0  Tisztelt Országgyűlés! Az Orsz...  \n",
       "1  Tisztelt Miniszter Úr! Az ön n...  \n",
       "2  Köszönöm a szót, elnök úr. Err...  "
      ]
     },
     "execution_count": 43,
     "metadata": {},
     "output_type": "execute_result"
    }
   ],
   "source": [
    "pd.read_csv(data_in + \"parlament_speech_2020.csv\").iloc[0:3, 0:4].assign(\n",
    "    text=lambda x: x[\"text_strip\"].str[0:30] + \"...\",\n",
    "    type=lambda x: x[\"type\"].str[0:30] + \"...\",\n",
    ").drop(columns=[\"text_strip\"])"
   ]
  },
  {
   "cell_type": "code",
   "execution_count": null,
   "metadata": {},
   "outputs": [],
   "source": []
  },
  {
   "cell_type": "markdown",
   "metadata": {},
   "source": [
    "## create observed ideology yc"
   ]
  },
  {
   "cell_type": "code",
   "execution_count": 47,
   "metadata": {},
   "outputs": [],
   "source": [
    "parldata = pd.read_csv(data_in + \"parlament_speech_2020.csv\")\n",
    "votedata = pd.read_csv(data_in + \"vote_outcomes_2018.csv\",index_col = False)"
   ]
  },
  {
   "cell_type": "code",
   "execution_count": 48,
   "metadata": {},
   "outputs": [],
   "source": [
    "votedata = (\n",
    "    votedata.merge(\n",
    "        votedata.loc[\n",
    "            lambda x: x[\"Jelölő szervezet(ek)\"] == \"FIDESZ-KDNP\", [\"%\", \"const\"]\n",
    "        ].rename(columns={\"%\": \"ideology\"}),\n",
    "        how=\"left\",\n",
    "        on=\"const\",\n",
    "    )\n",
    "    .loc[lambda x: x[\"Mandátum\"] == \"Igen\"]\n",
    "    .sort_values(by=[\"ideology\"])\n",
    "    .rename(columns={\"Jelölt neve\": \"name\"})\n",
    ")"
   ]
  },
  {
   "cell_type": "code",
   "execution_count": 49,
   "metadata": {},
   "outputs": [],
   "source": [
    "votedata[\"name\"] = votedata[\"name\"].str.replace(\"Dr. \",\"\")\n",
    "parldata[\"speaker\"] = parldata[\"speaker\"].str.replace(\"Dr. \",\"\")\n",
    "votedata[\"name\"] = votedata[\"name\"].str.replace(\"V.Németh Zsolt\",\"Németh Zsolt\")\n",
    "votedata[\"name\"] = votedata[\"name\"].str.replace(\"Vécsey László József\",\"Vécsey László\")\n",
    "votedata[\"name\"] = votedata[\"name\"].str.replace(\"B Nagy László\",\"B. Nagy László\")"
   ]
  },
  {
   "cell_type": "code",
   "execution_count": 50,
   "metadata": {},
   "outputs": [],
   "source": [
    "yc = (\n",
    "    parldata.filter([\"speaker\", \"oldal\"])\n",
    "    .rename(columns={\"speaker\": \"name\"})\n",
    "    .merge(votedata.filter([\"name\", \"ideology\"]), how=\"left\", on=\"name\")\n",
    "    .drop_duplicates(\"name\")\n",
    ")"
   ]
  },
  {
   "cell_type": "code",
   "execution_count": 51,
   "metadata": {},
   "outputs": [],
   "source": [
    "yc.dropna(subset = [\"ideology\"]).to_csv(data_out + \"yc_origin.csv\")"
   ]
  },
  {
   "cell_type": "code",
   "execution_count": 52,
   "metadata": {},
   "outputs": [
    {
     "data": {
      "image/png": "[encoded data removed]",
      "text/plain": [
       "<Figure size 432x288 with 1 Axes>"
      ]
     },
     "metadata": {
      "needs_background": "light"
     },
     "output_type": "display_data"
    }
   ],
   "source": [
    "sns.histplot(x=\"ideology\", data=yc, hue=\"oldal\", binwidth=1, element=\"step\")\n",
    "\n",
    "plt.savefig(\"/\".join(data_out.split(\"/\")[:-3]) + \"/figures/observed_ideology.png\")\n",
    "plt.show()"
   ]
  },
  {
   "cell_type": "code",
   "execution_count": 53,
   "metadata": {},
   "outputs": [],
   "source": [
    "yc.loc[lambda x: x[\"oldal\"] == \"Fidesz-KDNP\", \"ideology\"] = yc.loc[\n",
    "    lambda x: x[\"oldal\"] == \"Fidesz-KDNP\", \"ideology\"\n",
    "].fillna(yc.groupby(\"oldal\")[\"ideology\"].mean()[\"Fidesz-KDNP\"])\n",
    "\n",
    "yc.loc[lambda x: x[\"oldal\"] == \"ellenzék\", \"ideology\"] = yc.loc[\n",
    "    lambda x: x[\"oldal\"] == \"ellenzék\", \"ideology\"\n",
    "].fillna(yc.groupby(\"oldal\")[\"ideology\"].mean()[\"ellenzék\"])"
   ]
  },
  {
   "cell_type": "code",
   "execution_count": 54,
   "metadata": {},
   "outputs": [
    {
     "data": {
      "image/png": "[encoded data removed]",
      "text/plain": [
       "<Figure size 432x288 with 1 Axes>"
      ]
     },
     "metadata": {
      "needs_background": "light"
     },
     "output_type": "display_data"
    }
   ],
   "source": [
    "sns.histplot(x=\"ideology\", data=yc, hue=\"oldal\", binwidth=1, element=\"step\")\n",
    "plt.savefig(\"/\".join(data_out.split(\"/\")[:-3]) + \"/figures/observed_ideology_imputed.png\")\n",
    "plt.show()"
   ]
  },
  {
   "cell_type": "code",
   "execution_count": null,
   "metadata": {},
   "outputs": [],
   "source": [
    "yc.to_csv(data_out + \"yc.csv\")"
   ]
  },
  {
   "cell_type": "markdown",
   "metadata": {},
   "source": [
    "## Calculate  intercept and slope for all phrases"
   ]
  },
  {
   "cell_type": "code",
   "execution_count": 46,
   "metadata": {},
   "outputs": [],
   "source": [
    "freq = pd.read_csv(data_out + \"frequency_of_phrases_parliament.csv\")\n",
    "yc = pd.read_csv(data_out + \"yc.csv\")\n",
    "#yc = pd.read_csv(data_out + \"yc_origin.csv\")\n",
    "\n",
    "freq = freq.merge(\n",
    "    yc.filter([\"name\", \"ideology\"]), how=\"left\", left_on=\"doc_id\", right_on=\"name\"\n",
    ").drop(columns=[\"doc_id\"])\n",
    "\n",
    "#freq = freq.dropna(subset=[\"ideology\"]).reset_index(drop=True)"
   ]
  },
  {
   "cell_type": "code",
   "execution_count": null,
   "metadata": {},
   "outputs": [],
   "source": [
    "names = freq[\"name\"]\n",
    "yc = freq[\"ideology\"]\n",
    "Phases = freq.iloc[:, :-2].div(freq.sum(axis=1), axis=0)"
   ]
  },
  {
   "cell_type": "code",
   "execution_count": null,
   "metadata": {},
   "outputs": [],
   "source": [
    "p_a_b = pd.DataFrame(Phases.columns.tolist(), columns=[\"p\"]).assign(a=None, b=None)"
   ]
  },
  {
   "cell_type": "markdown",
   "metadata": {},
   "source": [
    "from sklearn import preprocessing\n",
    "\n",
    "df = pd.concat([Phases,yc],axis=1)\n",
    "\n",
    "colnames = df.columns\n",
    " Create the Scaler object\n",
    "scaler = preprocessing.StandardScaler()\n",
    " Fit your data on the scaler object\n",
    "scaled_df = scaler.fit_transform(df)\n",
    "scaled_df = pd.DataFrame(scaled_df, columns=colnames)\n",
    "\n",
    "yc = scaled_df[\"ideology\"]\n",
    "Phases_scaled = scaled_df.iloc[:,:-1]"
   ]
  },
  {
   "cell_type": "code",
   "execution_count": null,
   "metadata": {},
   "outputs": [],
   "source": [
    "# estimate intercept and slope parameters for every phrases\n",
    "for i in range(0, p_a_b.shape[0]):\n",
    "    X = yc\n",
    "    X = sm.add_constant(X)\n",
    "    fc = Phases.iloc[:, i]\n",
    "\n",
    "    model = sm.OLS(fc, X)\n",
    "    results = model.fit()\n",
    "    p_a_b.loc[i, \"a\"] = results.params[0]\n",
    "    p_a_b.loc[i, \"b\"] = results.params[1]"
   ]
  },
  {
   "cell_type": "code",
   "execution_count": null,
   "metadata": {},
   "outputs": [],
   "source": [
    "# slope\n",
    "p_a_b[\"b\"].sort_values().iloc[20:-10].hist(bins=20)"
   ]
  },
  {
   "cell_type": "code",
   "execution_count": null,
   "metadata": {},
   "outputs": [],
   "source": [
    "# intercept\n",
    "p_a_b[\"a\"].hist(bins=20)"
   ]
  },
  {
   "cell_type": "code",
   "execution_count": null,
   "metadata": {},
   "outputs": [],
   "source": [
    "p_a_b.to_csv(data_out + \"phrase_intercept_slope.csv\")"
   ]
  },
  {
   "cell_type": "markdown",
   "metadata": {},
   "source": [
    "##  in-sample evidence"
   ]
  },
  {
   "cell_type": "code",
   "execution_count": 55,
   "metadata": {},
   "outputs": [],
   "source": [
    "freq = pd.read_csv(data_out + \"frequency_of_phrases_parliament.csv\")\n",
    "yc = pd.read_csv(data_out + \"yc.csv\")\n",
    "#yc = pd.read_csv(data_out + \"yc_origin.csv\")\n",
    "p_a_b = pd.read_csv(data_out + \"phrase_intercept_slope.csv\",index_col = 0)\n",
    "\n",
    "freq = freq.merge(\n",
    "    yc.filter([\"name\", \"ideology\"]), how=\"left\", left_on=\"doc_id\", right_on=\"name\"\n",
    ").drop(columns=[\"doc_id\"])\n",
    "#freq = freq.dropna(subset=[\"ideology\"]).reset_index(drop=True)"
   ]
  },
  {
   "cell_type": "code",
   "execution_count": 56,
   "metadata": {},
   "outputs": [],
   "source": [
    "def predict_y_hat(freq, p_a_b):\n",
    "    if \"ideology\" in freq.columns.tolist():\n",
    "        Phases = freq.drop(columns=[\"name\", \"ideology\"]).div(freq.sum(axis=1), axis=0)\n",
    "    elif \"name\" in freq.columns.tolist():\n",
    "        Phases = freq.drop(columns=[\"name\"]).div(freq.sum(axis=1), axis=0)\n",
    "    else:\n",
    "        print(\"You should always have a 'name' columns in freq table\")\n",
    "\n",
    "    for i in range(Phases.shape[0]):\n",
    "\n",
    "        out = (\n",
    "            Phases.iloc[i, :]\n",
    "            .T.rename(\"fpn\")\n",
    "            .reset_index()\n",
    "            .merge(p_a_b, left_on=\"index\", right_on=\"p\")\n",
    "            .drop(columns=[\"index\"])\n",
    "            .assign(\n",
    "                f_minus_a_times_b=lambda x: (x[\"fpn\"] - x[\"a\"]) * x[\"b\"],\n",
    "                b_squared=lambda x: x[\"b\"] * x[\"b\"],\n",
    "            )\n",
    "            .sum(axis=0)\n",
    "            .filter([\"f_minus_a_times_b\", \"b_squared\"])\n",
    "        )\n",
    "\n",
    "        freq.loc[i, \"y_hat\"] = out[\"f_minus_a_times_b\"] / out[\"b_squared\"]\n",
    "\n",
    "    if \"ideology\" in freq.columns.tolist():\n",
    "        prediction_table = freq.filter(\n",
    "            [\"name\", \"ideology\", \"y_hat\", \"y_hat_abs\"]\n",
    "        ).sort_values(by=[\"y_hat\"])\n",
    "    else:\n",
    "        prediction_table = freq.filter([\"name\", \"y_hat\", \"y_hat_abs\"]).sort_values(\n",
    "            by=[\"y_hat\"]\n",
    "        )\n",
    "\n",
    "    return prediction_table.reset_index(drop=True)"
   ]
  },
  {
   "cell_type": "code",
   "execution_count": 57,
   "metadata": {},
   "outputs": [],
   "source": [
    "insample_pred = predict_y_hat(freq, p_a_b)"
   ]
  },
  {
   "cell_type": "code",
   "execution_count": 64,
   "metadata": {},
   "outputs": [
    {
     "data": {
      "image/png": "[encoded data removed]",
      "text/plain": [
       "<Figure size 504x504 with 1 Axes>"
      ]
     },
     "metadata": {
      "needs_background": "light"
     },
     "output_type": "display_data"
    }
   ],
   "source": [
    "plt.figure(figsize=(7, 7))\n",
    "true_value = insample_pred[\"ideology\"]\n",
    "predicted_value = insample_pred[\"y_hat\"]\n",
    "\n",
    "plt.scatter(true_value, predicted_value, c=\"crimson\")\n",
    "\n",
    "p1 = max(max(predicted_value), max(true_value))\n",
    "p2 = min(min(predicted_value), min(true_value))\n",
    "plt.plot([p1, p2], [p1, p2], \"b-\")\n",
    "plt.xlabel(\"True Values\", fontsize=15)\n",
    "plt.ylabel(\"Predictions\", fontsize=15)\n",
    "plt.axis(\"equal\")\n",
    "plt.title(\"Insample evidence: \\n Predicted and observed ideology\",fontsize = 20)\n",
    "plt.savefig(\"/\".join(data_out.split(\"/\")[:-3]) + \"/figures/insample_evidence_rep.png\")\n",
    "plt.show()"
   ]
  },
  {
   "cell_type": "code",
   "execution_count": 62,
   "metadata": {},
   "outputs": [
    {
     "data": {
      "text/html": [
       "<div>\n",
       "<style scoped>\n",
       "    .dataframe tbody tr th:only-of-type {\n",
       "        vertical-align: middle;\n",
       "    }\n",
       "\n",
       "    .dataframe tbody tr th {\n",
       "        vertical-align: top;\n",
       "    }\n",
       "\n",
       "    .dataframe thead th {\n",
       "        text-align: right;\n",
       "    }\n",
       "</style>\n",
       "<table border=\"1\" class=\"dataframe\">\n",
       "  <thead>\n",
       "    <tr style=\"text-align: right;\">\n",
       "      <th></th>\n",
       "      <th>ideology</th>\n",
       "      <th>y_hat</th>\n",
       "    </tr>\n",
       "  </thead>\n",
       "  <tbody>\n",
       "    <tr>\n",
       "      <th>ideology</th>\n",
       "      <td>1.000000</td>\n",
       "      <td>0.679809</td>\n",
       "    </tr>\n",
       "    <tr>\n",
       "      <th>y_hat</th>\n",
       "      <td>0.679809</td>\n",
       "      <td>1.000000</td>\n",
       "    </tr>\n",
       "  </tbody>\n",
       "</table>\n",
       "</div>"
      ],
      "text/plain": [
       "          ideology     y_hat\n",
       "ideology  1.000000  0.679809\n",
       "y_hat     0.679809  1.000000"
      ]
     },
     "execution_count": 62,
     "metadata": {},
     "output_type": "execute_result"
    }
   ],
   "source": [
    "insample_pred[[\"ideology\", \"y_hat\"]].corr()"
   ]
  },
  {
   "cell_type": "markdown",
   "metadata": {},
   "source": [
    "## predict on representatives with nonobserved ideology"
   ]
  },
  {
   "cell_type": "code",
   "execution_count": 14,
   "metadata": {},
   "outputs": [],
   "source": [
    "freq = pd.read_csv(data_out + \"frequency_of_phrases_parliament.csv\")\n",
    "#yc = pd.read_csv(data_out + \"yc.csv\")\n",
    "yc = pd.read_csv(data_out + \"yc_origin.csv\")\n",
    "p_a_b = pd.read_csv(data_out + \"phrase_intercept_slope.csv\",index_col = 0)\n",
    "\n",
    "freq = freq.merge(\n",
    "    yc.filter([\"name\", \"ideology\"]), how=\"left\", left_on=\"doc_id\", right_on=\"name\"\n",
    ").drop(columns=[\"name\"]).rename(columns={\"doc_id\":\"name\"})\n",
    "\n",
    "freq = freq.loc[lambda x: x[\"ideology\"].isnull()].reset_index(drop=True)"
   ]
  },
  {
   "cell_type": "code",
   "execution_count": 15,
   "metadata": {},
   "outputs": [],
   "source": [
    "prediction_on_nonobserved_representatives = predict_y_hat(freq, p_a_b)"
   ]
  },
  {
   "cell_type": "code",
   "execution_count": 16,
   "metadata": {},
   "outputs": [],
   "source": [
    "parldata = pd.read_csv(data_in + \"parlament_speech_2020.csv\").assign(\n",
    "    name=lambda x: x[\"speaker\"].str.replace(\"Dr. \", \"\")\n",
    ")\n",
    "prediction_on_nonobserved_representatives = (\n",
    "    prediction_on_nonobserved_representatives.merge(\n",
    "        parldata[[\"name\", \"oldal\"]], on=\"name\"\n",
    "    )\n",
    "    .drop(columns=[\"ideology\"])\n",
    "    .drop_duplicates()\n",
    ")"
   ]
  },
  {
   "cell_type": "code",
   "execution_count": 71,
   "metadata": {},
   "outputs": [
    {
     "data": {
      "image/png": "[encoded data removed]",
      "text/plain": [
       "<Figure size 720x72 with 1 Axes>"
      ]
     },
     "metadata": {
      "needs_background": "light"
     },
     "output_type": "display_data"
    }
   ],
   "source": [
    "fig, ax = plt.subplots(figsize=(10, 1))\n",
    "ax.plot(\n",
    "    prediction_on_nonobserved_representatives.loc[\n",
    "        lambda x: x[\"oldal\"] == \"ellenzék\", \"y_hat\"\n",
    "    ],\n",
    "    np.zeros_like(\n",
    "        prediction_on_nonobserved_representatives.loc[\n",
    "            lambda x: x[\"oldal\"] == \"ellenzék\", \"y_hat\"\n",
    "        ]\n",
    "    ),\n",
    "    \".\",\n",
    "    markersize=15,\n",
    "    markeredgewidth=2,\n",
    "    markeredgecolor=\"blue\",\n",
    "    markerfacecolor=\"blue\",\n",
    ")\n",
    "\n",
    "ax.plot(\n",
    "    prediction_on_nonobserved_representatives.loc[\n",
    "        lambda x: x[\"oldal\"] == \"Fidesz-KDNP\", \"y_hat\"\n",
    "    ],\n",
    "    np.zeros_like(\n",
    "        prediction_on_nonobserved_representatives.loc[\n",
    "            lambda x: x[\"oldal\"] == \"Fidesz-KDNP\", \"y_hat\"\n",
    "        ]\n",
    "    ),\n",
    "    \".\",\n",
    "    markersize=15,\n",
    "    markeredgewidth=2,\n",
    "    markeredgecolor=\"r\",\n",
    "    markerfacecolor=\"r\",\n",
    ")\n",
    "ax.set_yticklabels([])\n",
    "\n",
    "plt.title(\"Predicted ideology of representatives with imputed ideology\",fontsize=15)\n",
    "\n",
    "plt.savefig(\"/\".join(data_out.split(\"/\")[:-3]) + \"/figures/GS-scaling-representatives.png\")\n",
    "plt.show()"
   ]
  },
  {
   "cell_type": "markdown",
   "metadata": {},
   "source": [
    "## prediction on media"
   ]
  },
  {
   "cell_type": "code",
   "execution_count": 145,
   "metadata": {},
   "outputs": [],
   "source": [
    "freq = pd.read_csv(data_out + \"frequency_of_phrases_media.csv\").rename(\n",
    "    columns={\"doc_id\": \"name\"}\n",
    ")\n",
    "p_a_b = pd.read_csv(data_out + \"phrase_intercept_slope.csv\")\n",
    "yc = pd.read_csv(data_out + \"yc.csv\")"
   ]
  },
  {
   "cell_type": "code",
   "execution_count": 149,
   "metadata": {},
   "outputs": [],
   "source": [
    "pred = predict_y_hat(freq, p_a_b)\n",
    "\n",
    "pred[\"name\"] = pred[\"name\"].map(\n",
    "    {\n",
    "        \"mno\": \"MNO\",\n",
    "        \"888\": \"888.hu\",\n",
    "        \"origo\": \"Origo\",\n",
    "        \"Index\": \"Index\\n\",\n",
    "        \"444\": \"444.hu\",\n",
    "        \"24.hu\": \"24.hu\",\n",
    "    }\n",
    ")\n",
    "pred = pred.append(\n",
    "    yc.groupby(\"oldal\")[\"ideology\"]\n",
    "    .mean()\n",
    "    .to_frame()\n",
    "    .reset_index()\n",
    "    .rename(columns={\"oldal\": \"name\", \"ideology\": \"y_hat\"}),\n",
    "    ignore_index=True,\n",
    ")"
   ]
  },
  {
   "cell_type": "code",
   "execution_count": 157,
   "metadata": {},
   "outputs": [
    {
     "data": {
      "image/png": "[encoded data removed]",
      "text/plain": [
       "<Figure size 288x720 with 1 Axes>"
      ]
     },
     "metadata": {
      "needs_background": "light"
     },
     "output_type": "display_data"
    }
   ],
   "source": [
    "fig, ax = plt.subplots(figsize=(4, 10))\n",
    "ax.plot(\n",
    "    np.zeros_like(pred[\"y_hat\"].iloc[:6]),\n",
    "    pred[\"y_hat\"].iloc[:6],\n",
    "    \"o\",\n",
    "    markersize=15,\n",
    "    markeredgewidth=2,\n",
    "    markeredgecolor=\"r\",\n",
    "    markerfacecolor=\"r\",\n",
    ")\n",
    "\n",
    "ax.plot(\n",
    "    np.zeros_like(pred[\"y_hat\"].iloc[6:]),\n",
    "    pred[\"y_hat\"].iloc[6:],\n",
    "    \"o\",\n",
    "    markersize=15,\n",
    "    markeredgewidth=2,\n",
    "    markeredgecolor=\"b\",\n",
    "    markerfacecolor=\"b\",\n",
    ")\n",
    "plt.xlim([-3,3])\n",
    "ax.set_xticklabels([])\n",
    "ax.tick_params(labelsize=15)\n",
    "\n",
    "for i, txt in enumerate(pred[\"name\"].iloc[:6]):\n",
    "    ax.annotate(\n",
    "        txt,\n",
    "        (np.zeros_like(pred[\"y_hat\"])[i], pred[\"y_hat\"][i]),\n",
    "        xytext=(np.zeros_like(pred[\"y_hat\"])[i] + 1.6, pred[\"y_hat\"][i]),\n",
    "        ha=\"center\",\n",
    "        size=15,\n",
    "    )\n",
    "\n",
    "ax.annotate(\n",
    "    pred[\"name\"][6],\n",
    "    (np.zeros_like(pred[\"y_hat\"])[6], pred[\"y_hat\"][6]),\n",
    "    xytext=(np.zeros_like(pred[\"y_hat\"])[6] -1.6 , pred[\"y_hat\"][6]-0.15),\n",
    "    ha=\"center\",\n",
    "    size=15,\n",
    ")\n",
    "\n",
    "ax.annotate(\n",
    "    pred[\"name\"][7],\n",
    "    (np.zeros_like(pred[\"y_hat\"])[7], pred[\"y_hat\"][7]),\n",
    "    xytext=(np.zeros_like(pred[\"y_hat\"])[7] - 1.6, pred[\"y_hat\"][7]-0.15),\n",
    "    ha=\"center\",\n",
    "    size=15\n",
    ")\n",
    "\n",
    "# plt.title(\"Predicted ideology of media outlets, and reference scores of the two sides\",fontsize = 15)\n",
    "\n",
    "plt.savefig(\"/\".join(data_out.split(\"/\")[:-3]) + \"/figures/GS-scaling-media.png\")\n",
    "plt.show()"
   ]
  },
  {
   "cell_type": "code",
   "execution_count": null,
   "metadata": {},
   "outputs": [],
   "source": []
  },
  {
   "cell_type": "code",
   "execution_count": 100,
   "metadata": {},
   "outputs": [
    {
     "data": {
      "image/png": "[encoded data removed]",
      "text/plain": [
       "<Figure size 720x144 with 1 Axes>"
      ]
     },
     "metadata": {
      "needs_background": "light"
     },
     "output_type": "display_data"
    }
   ],
   "source": [
    "fig, ax = plt.subplots(figsize=(10, 2))\n",
    "ax.plot(\n",
    "    pred[\"y_hat\"].iloc[:6],\n",
    "    np.zeros_like(pred[\"y_hat\"].iloc[:6]),\n",
    "    \".\",\n",
    "    markersize=15,\n",
    "    markeredgewidth=2,\n",
    "    markeredgecolor=\"r\",\n",
    "    markerfacecolor=\"r\",\n",
    ")\n",
    "\n",
    "ax.plot(\n",
    "    pred[\"y_hat\"].iloc[6:],\n",
    "    np.zeros_like(pred[\"y_hat\"].iloc[6:]),\n",
    "    \".\",\n",
    "    markersize=15,\n",
    "    markeredgewidth=2,\n",
    "    markeredgecolor=\"b\",\n",
    "    markerfacecolor=\"b\",\n",
    ")\n",
    "plt.xlim()\n",
    "ax.set_yticklabels([])\n",
    "\n",
    "for i, txt in enumerate(pred[\"name\"].iloc[:6]):\n",
    "    ax.annotate(\n",
    "        txt,\n",
    "        (pred[\"y_hat\"][i], np.zeros_like(pred[\"y_hat\"])[i]),\n",
    "        xytext=(pred[\"y_hat\"][i], np.zeros_like(pred[\"y_hat\"])[i] + 0.01),\n",
    "        ha=\"center\",\n",
    "    )\n",
    "\n",
    "ax.annotate(\n",
    "    pred[\"name\"][6],\n",
    "    (pred[\"y_hat\"][6], np.zeros_like(pred[\"y_hat\"])[6]),\n",
    "    xytext=(pred[\"y_hat\"][6], np.zeros_like(pred[\"y_hat\"])[6] - 0.02),\n",
    "    ha=\"center\",\n",
    ")\n",
    "\n",
    "ax.annotate(\n",
    "    pred[\"name\"][7],\n",
    "    (pred[\"y_hat\"][7], np.zeros_like(pred[\"y_hat\"])[7]),\n",
    "    xytext=(pred[\"y_hat\"][7], np.zeros_like(pred[\"y_hat\"])[7] - 0.02),\n",
    "    ha=\"center\",\n",
    ")\n",
    "\n",
    "#plt.title(\"Predicted ideology of media outlets, and reference scores of the two sides\",fontsize = 15)\n",
    "\n",
    "plt.savefig(\"/\".join(data_out.split(\"/\")[:-3]) + \"/figures/GS-scaling-media.png\")\n",
    "plt.show()"
   ]
  },
  {
   "cell_type": "code",
   "execution_count": 142,
   "metadata": {},
   "outputs": [],
   "source": [
    "pred = predict_y_hat(freq, p_a_b)\n",
    "\n",
    "pred[\"name\"] = pred[\"name\"].map(\n",
    "    {\n",
    "        \"mno\": \"Magyar Nemzet\",\n",
    "        \"888\": \"888.hu\",\n",
    "        \"origo\": \"Origo\",\n",
    "        \"Index\": \"Index\",\n",
    "        \"444\": \"444.hu\",\n",
    "        \"24.hu\": \"24.hu\",\n",
    "    }\n",
    ")\n",
    "\n",
    "pred = (\n",
    "    pred.append(\n",
    "        yc.groupby(\"oldal\")[\"ideology\"]\n",
    "        .mean()\n",
    "        .to_frame()\n",
    "        .reset_index()\n",
    "        .rename(columns={\"oldal\": \"name\", \"ideology\": \"y_hat\"}),\n",
    "        ignore_index=True,\n",
    "    )\n",
    "    .sort_values(by=[\"y_hat\"],ascending=False)\n",
    "    .round(2)\n",
    "    .rename(columns={\"y_hat\": \"predicted ideology\"})\n",
    "    .set_index(\"name\")\n",
    ")"
   ]
  },
  {
   "cell_type": "code",
   "execution_count": 143,
   "metadata": {},
   "outputs": [],
   "source": [
    "pred.to_latex(\"GS-media-pred.tex\")"
   ]
  },
  {
   "cell_type": "code",
   "execution_count": null,
   "metadata": {},
   "outputs": [],
   "source": []
  }
 ],
 "metadata": {
  "kernelspec": {
   "display_name": "Python 3",
   "language": "python",
   "name": "python3"
  },
  "language_info": {
   "codemirror_mode": {
    "name": "ipython",
    "version": 3
   },
   "file_extension": ".py",
   "mimetype": "text/x-python",
   "name": "python",
   "nbconvert_exporter": "python",
   "pygments_lexer": "ipython3",
   "version": "3.8.6"
  }
 },
 "nbformat": 4,
 "nbformat_minor": 4
}
