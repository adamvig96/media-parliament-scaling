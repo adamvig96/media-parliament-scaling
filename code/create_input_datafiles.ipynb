{
 "cells": [
  {
   "cell_type": "markdown",
   "metadata": {},
   "source": [
    "## this code...\n",
    "\n",
    "- downloads parliamentary speech corpus in 2020, delete comments from text\n",
    "- downloads the names and party of representatives from 2018 to 2020\n",
    "- downloads voting outcomes of the 2018 hungarian parliamentary elections\n",
    "\n",
    "NOTE: media outlet coprus is added independently"
   ]
  },
  {
   "cell_type": "markdown",
   "metadata": {},
   "source": [
    "## import necessary packages"
   ]
  },
  {
   "cell_type": "code",
   "execution_count": 1,
   "metadata": {},
   "outputs": [],
   "source": [
    "import pandas as pd\n",
    "import numpy as np\n",
    "import re\n",
    "import requests\n",
    "import json\n",
    "from bs4 import BeautifulSoup\n",
    "from tqdm import tqdm\n",
    "from gzip import decompress\n",
    "from json import loads\n",
    "from requests import get\n",
    "\n",
    "tqdm.pandas()\n",
    "data_dir = \"/Users/vigadam/Dropbox/github/media_network/media_data/media-parliament-scaling/data/\""
   ]
  },
  {
   "cell_type": "markdown",
   "metadata": {},
   "source": [
    "## download and clean 2020 parliament text"
   ]
  },
  {
   "cell_type": "markdown",
   "metadata": {},
   "source": [
    "I asked for data at Kmonitor, they built this [project](https://k-monitor.github.io/parliamentary_debates_open/) and already scraped raw data from parliament website."
   ]
  },
  {
   "cell_type": "code",
   "execution_count": 2,
   "metadata": {},
   "outputs": [],
   "source": [
    "corpus_urls = [\n",
    "    \"https://parldatastorage.blob.core.windows.net/parldata-crawler-results/parldata-41.2019-10-23T15-03-10.json.gz\",\n",
    "    \"https://parldatastorage.blob.core.windows.net/parldata-crawler-results/parldata-41.2020-01-14T19-25-52.json.gz\",\n",
    "    \"https://parldatastorage.blob.core.windows.net/parldata-crawler-results/parldata-41.2020-11-29T14-11-09.json.gz\",\n",
    "]"
   ]
  },
  {
   "cell_type": "code",
   "execution_count": 3,
   "metadata": {},
   "outputs": [],
   "source": [
    "def get_gzipped_json(url):\n",
    "    return loads(decompress(get(url).content))"
   ]
  },
  {
   "cell_type": "markdown",
   "metadata": {},
   "source": [
    "download data"
   ]
  },
  {
   "cell_type": "code",
   "execution_count": 5,
   "metadata": {},
   "outputs": [],
   "source": [
    "parldata = pd.DataFrame()\n",
    "for url in corpus_urls:\n",
    "    chunk = pd.DataFrame(get_gzipped_json(url))\n",
    "    chunk[\"date\"] = chunk[\"plenary_sitting_details\"].apply(lambda x: x[\"date\"])\n",
    "    parldata = pd.concat(\n",
    "        [parldata, chunk.sort_values(by=[\"date\", \"id\"]).reset_index(drop=True)]\n",
    "    )"
   ]
  },
  {
   "cell_type": "code",
   "execution_count": 6,
   "metadata": {},
   "outputs": [
    {
     "data": {
      "text/html": [
       "<div>\n",
       "<style scoped>\n",
       "    .dataframe tbody tr th:only-of-type {\n",
       "        vertical-align: middle;\n",
       "    }\n",
       "\n",
       "    .dataframe tbody tr th {\n",
       "        vertical-align: top;\n",
       "    }\n",
       "\n",
       "    .dataframe thead th {\n",
       "        text-align: right;\n",
       "    }\n",
       "</style>\n",
       "<table border=\"1\" class=\"dataframe\">\n",
       "  <thead>\n",
       "    <tr style=\"text-align: right;\">\n",
       "      <th></th>\n",
       "      <th>speaker</th>\n",
       "      <th>topic</th>\n",
       "      <th>url</th>\n",
       "      <th>video_url</th>\n",
       "      <th>text</th>\n",
       "      <th>speaker_url</th>\n",
       "      <th>prev_speech_url</th>\n",
       "      <th>speaker_party</th>\n",
       "      <th>id</th>\n",
       "      <th>type</th>\n",
       "      <th>duration</th>\n",
       "      <th>plenary_sitting_details</th>\n",
       "      <th>next_speech_url</th>\n",
       "      <th>bill_url</th>\n",
       "      <th>bill_title</th>\n",
       "      <th>started_at</th>\n",
       "      <th>committee</th>\n",
       "      <th>date</th>\n",
       "    </tr>\n",
       "  </thead>\n",
       "  <tbody>\n",
       "    <tr>\n",
       "      <th>0</th>\n",
       "      <td>Dr. Latorcai János</td>\n",
       "      <td>Ülésnap megnyitása</td>\n",
       "      <td>https://www.parlament.hu/internet/plsql/ogy_na...</td>\n",
       "      <td>https://sgis.parlament.hu/archive/playseq.php?...</td>\n",
       "      <td>ELNÖK : (A teremben lévők felállnak, és ezzel ...</td>\n",
       "      <td>https://www.parlament.hu/internet/plsql/ogy_kp...</td>\n",
       "      <td>NaN</td>\n",
       "      <td>KDNP</td>\n",
       "      <td>41-70-1</td>\n",
       "      <td>Az ülésnap megnyitása</td>\n",
       "      <td>0:44</td>\n",
       "      <td>{'sitting_id': '25', 'day': 'kedd', 'duration_...</td>\n",
       "      <td>https://www.parlament.hu/internet/plsql/ogy_na...</td>\n",
       "      <td>NaN</td>\n",
       "      <td>NaN</td>\n",
       "      <td>NaN</td>\n",
       "      <td>NaN</td>\n",
       "      <td>2019.06.11.</td>\n",
       "    </tr>\n",
       "    <tr>\n",
       "      <th>1</th>\n",
       "      <td>Dr. Hiller István</td>\n",
       "      <td>[Napirend előtti felszólalások, A Magyar Tudom...</td>\n",
       "      <td>https://www.parlament.hu/internet/plsql/ogy_na...</td>\n",
       "      <td>https://sgis.parlament.hu/archive/playseq.php?...</td>\n",
       "      <td>DR. HILLER ISTVÁN (MSZP): Tisztelt Elnök Úr! K...</td>\n",
       "      <td>https://www.parlament.hu/internet/plsql/ogy_kp...</td>\n",
       "      <td>https://www.parlament.hu/internet/plsql/ogy_na...</td>\n",
       "      <td>MSZP</td>\n",
       "      <td>41-70-10</td>\n",
       "      <td>napirend előtti felszólalás</td>\n",
       "      <td>5:11</td>\n",
       "      <td>{'sitting_id': '25', 'day': 'kedd', 'duration_...</td>\n",
       "      <td>https://www.parlament.hu/internet/plsql/ogy_na...</td>\n",
       "      <td>NaN</td>\n",
       "      <td>NaN</td>\n",
       "      <td>13:24:00</td>\n",
       "      <td>NaN</td>\n",
       "      <td>2019.06.11.</td>\n",
       "    </tr>\n",
       "    <tr>\n",
       "      <th>2</th>\n",
       "      <td>Dr. Rétvári Bence</td>\n",
       "      <td>Kérdés/azonnali kérdés megtárgyalása</td>\n",
       "      <td>https://www.parlament.hu/internet/plsql/ogy_na...</td>\n",
       "      <td>https://sgis.parlament.hu/archive/playseq.php?...</td>\n",
       "      <td>DR. RÉTVÁRI BENCE, az Emberi Erőforrások Minis...</td>\n",
       "      <td>https://www.parlament.hu/internet/plsql/ogy_kp...</td>\n",
       "      <td>https://www.parlament.hu/internet/plsql/ogy_na...</td>\n",
       "      <td>KDNP</td>\n",
       "      <td>41-70-100</td>\n",
       "      <td>azonnali kérdésre adott miniszteri viszonválasz</td>\n",
       "      <td>1:09</td>\n",
       "      <td>{'sitting_id': '25', 'day': 'kedd', 'duration_...</td>\n",
       "      <td>https://www.parlament.hu/internet/plsql/ogy_na...</td>\n",
       "      <td>[https://www.parlament.hu/internet/plsql/ogy_i...</td>\n",
       "      <td>[A/6443   Magyarországon többen halnak meg kór...</td>\n",
       "      <td>15:59:00</td>\n",
       "      <td>Emberi Erőforrások Minisztériumának államtitkára</td>\n",
       "      <td>2019.06.11.</td>\n",
       "    </tr>\n",
       "    <tr>\n",
       "      <th>3</th>\n",
       "      <td>Jakab István</td>\n",
       "      <td>Kérdés/azonnali kérdés megtárgyalása</td>\n",
       "      <td>https://www.parlament.hu/internet/plsql/ogy_na...</td>\n",
       "      <td>https://sgis.parlament.hu/archive/playseq.php?...</td>\n",
       "      <td>ELNÖK: Megköszönöm államtitkár úr válaszát. Ti...</td>\n",
       "      <td>https://www.parlament.hu/internet/plsql/ogy_kp...</td>\n",
       "      <td>https://www.parlament.hu/internet/plsql/ogy_na...</td>\n",
       "      <td>Fidesz</td>\n",
       "      <td>41-70-101</td>\n",
       "      <td>ülésvezetés</td>\n",
       "      <td>0:26</td>\n",
       "      <td>{'sitting_id': '25', 'day': 'kedd', 'duration_...</td>\n",
       "      <td>https://www.parlament.hu/internet/plsql/ogy_na...</td>\n",
       "      <td>[https://www.parlament.hu/internet/plsql/ogy_i...</td>\n",
       "      <td>[A/6434   Mikor tudják meg végre a Fóti Gyerme...</td>\n",
       "      <td>NaN</td>\n",
       "      <td>NaN</td>\n",
       "      <td>2019.06.11.</td>\n",
       "    </tr>\n",
       "    <tr>\n",
       "      <th>4</th>\n",
       "      <td>Arató Gergely</td>\n",
       "      <td>Kérdés/azonnali kérdés megtárgyalása</td>\n",
       "      <td>https://www.parlament.hu/internet/plsql/ogy_na...</td>\n",
       "      <td>https://sgis.parlament.hu/archive/playseq.php?...</td>\n",
       "      <td>ARATÓ GERGELY (DK): Elfogadom, igen.</td>\n",
       "      <td>https://www.parlament.hu/internet/plsql/ogy_kp...</td>\n",
       "      <td>https://www.parlament.hu/internet/plsql/ogy_na...</td>\n",
       "      <td>DK</td>\n",
       "      <td>41-70-102</td>\n",
       "      <td>elhangzik az interpelláció/kérdés/azonnali kérdés</td>\n",
       "      <td>2:05</td>\n",
       "      <td>{'sitting_id': '25', 'day': 'kedd', 'duration_...</td>\n",
       "      <td>https://www.parlament.hu/internet/plsql/ogy_na...</td>\n",
       "      <td>[https://www.parlament.hu/internet/plsql/ogy_i...</td>\n",
       "      <td>[A/6434   Mikor tudják meg végre a Fóti Gyerme...</td>\n",
       "      <td>16:01:00</td>\n",
       "      <td>NaN</td>\n",
       "      <td>2019.06.11.</td>\n",
       "    </tr>\n",
       "  </tbody>\n",
       "</table>\n",
       "</div>"
      ],
      "text/plain": [
       "              speaker                                              topic  \\\n",
       "0  Dr. Latorcai János                                 Ülésnap megnyitása   \n",
       "1   Dr. Hiller István  [Napirend előtti felszólalások, A Magyar Tudom...   \n",
       "2   Dr. Rétvári Bence               Kérdés/azonnali kérdés megtárgyalása   \n",
       "3        Jakab István               Kérdés/azonnali kérdés megtárgyalása   \n",
       "4       Arató Gergely               Kérdés/azonnali kérdés megtárgyalása   \n",
       "\n",
       "                                                 url  \\\n",
       "0  https://www.parlament.hu/internet/plsql/ogy_na...   \n",
       "1  https://www.parlament.hu/internet/plsql/ogy_na...   \n",
       "2  https://www.parlament.hu/internet/plsql/ogy_na...   \n",
       "3  https://www.parlament.hu/internet/plsql/ogy_na...   \n",
       "4  https://www.parlament.hu/internet/plsql/ogy_na...   \n",
       "\n",
       "                                           video_url  \\\n",
       "0  https://sgis.parlament.hu/archive/playseq.php?...   \n",
       "1  https://sgis.parlament.hu/archive/playseq.php?...   \n",
       "2  https://sgis.parlament.hu/archive/playseq.php?...   \n",
       "3  https://sgis.parlament.hu/archive/playseq.php?...   \n",
       "4  https://sgis.parlament.hu/archive/playseq.php?...   \n",
       "\n",
       "                                                text  \\\n",
       "0  ELNÖK : (A teremben lévők felállnak, és ezzel ...   \n",
       "1  DR. HILLER ISTVÁN (MSZP): Tisztelt Elnök Úr! K...   \n",
       "2  DR. RÉTVÁRI BENCE, az Emberi Erőforrások Minis...   \n",
       "3  ELNÖK: Megköszönöm államtitkár úr válaszát. Ti...   \n",
       "4               ARATÓ GERGELY (DK): Elfogadom, igen.   \n",
       "\n",
       "                                         speaker_url  \\\n",
       "0  https://www.parlament.hu/internet/plsql/ogy_kp...   \n",
       "1  https://www.parlament.hu/internet/plsql/ogy_kp...   \n",
       "2  https://www.parlament.hu/internet/plsql/ogy_kp...   \n",
       "3  https://www.parlament.hu/internet/plsql/ogy_kp...   \n",
       "4  https://www.parlament.hu/internet/plsql/ogy_kp...   \n",
       "\n",
       "                                     prev_speech_url speaker_party         id  \\\n",
       "0                                                NaN          KDNP    41-70-1   \n",
       "1  https://www.parlament.hu/internet/plsql/ogy_na...          MSZP   41-70-10   \n",
       "2  https://www.parlament.hu/internet/plsql/ogy_na...          KDNP  41-70-100   \n",
       "3  https://www.parlament.hu/internet/plsql/ogy_na...        Fidesz  41-70-101   \n",
       "4  https://www.parlament.hu/internet/plsql/ogy_na...            DK  41-70-102   \n",
       "\n",
       "                                                type duration  \\\n",
       "0                              Az ülésnap megnyitása     0:44   \n",
       "1                        napirend előtti felszólalás     5:11   \n",
       "2    azonnali kérdésre adott miniszteri viszonválasz     1:09   \n",
       "3                                        ülésvezetés     0:26   \n",
       "4  elhangzik az interpelláció/kérdés/azonnali kérdés     2:05   \n",
       "\n",
       "                             plenary_sitting_details  \\\n",
       "0  {'sitting_id': '25', 'day': 'kedd', 'duration_...   \n",
       "1  {'sitting_id': '25', 'day': 'kedd', 'duration_...   \n",
       "2  {'sitting_id': '25', 'day': 'kedd', 'duration_...   \n",
       "3  {'sitting_id': '25', 'day': 'kedd', 'duration_...   \n",
       "4  {'sitting_id': '25', 'day': 'kedd', 'duration_...   \n",
       "\n",
       "                                     next_speech_url  \\\n",
       "0  https://www.parlament.hu/internet/plsql/ogy_na...   \n",
       "1  https://www.parlament.hu/internet/plsql/ogy_na...   \n",
       "2  https://www.parlament.hu/internet/plsql/ogy_na...   \n",
       "3  https://www.parlament.hu/internet/plsql/ogy_na...   \n",
       "4  https://www.parlament.hu/internet/plsql/ogy_na...   \n",
       "\n",
       "                                            bill_url  \\\n",
       "0                                                NaN   \n",
       "1                                                NaN   \n",
       "2  [https://www.parlament.hu/internet/plsql/ogy_i...   \n",
       "3  [https://www.parlament.hu/internet/plsql/ogy_i...   \n",
       "4  [https://www.parlament.hu/internet/plsql/ogy_i...   \n",
       "\n",
       "                                          bill_title started_at  \\\n",
       "0                                                NaN        NaN   \n",
       "1                                                NaN   13:24:00   \n",
       "2  [A/6443   Magyarországon többen halnak meg kór...   15:59:00   \n",
       "3  [A/6434   Mikor tudják meg végre a Fóti Gyerme...        NaN   \n",
       "4  [A/6434   Mikor tudják meg végre a Fóti Gyerme...   16:01:00   \n",
       "\n",
       "                                          committee         date  \n",
       "0                                               NaN  2019.06.11.  \n",
       "1                                               NaN  2019.06.11.  \n",
       "2  Emberi Erőforrások Minisztériumának államtitkára  2019.06.11.  \n",
       "3                                               NaN  2019.06.11.  \n",
       "4                                               NaN  2019.06.11.  "
      ]
     },
     "execution_count": 6,
     "metadata": {},
     "output_type": "execute_result"
    }
   ],
   "source": [
    "parldata.head()"
   ]
  },
  {
   "cell_type": "markdown",
   "metadata": {},
   "source": [
    "filter for 2020"
   ]
  },
  {
   "cell_type": "code",
   "execution_count": 7,
   "metadata": {},
   "outputs": [],
   "source": [
    "parldata = parldata.assign(year=lambda x: x[\"date\"].apply(lambda x: x[0:4])).loc[\n",
    "    lambda x: x[\"year\"] == \"2020\"\n",
    "].reset_index(drop=True)"
   ]
  },
  {
   "cell_type": "code",
   "execution_count": 8,
   "metadata": {},
   "outputs": [
    {
     "data": {
      "text/plain": [
       "(13794, 19)"
      ]
     },
     "execution_count": 8,
     "metadata": {},
     "output_type": "execute_result"
    }
   ],
   "source": [
    "parldata.shape"
   ]
  },
  {
   "cell_type": "markdown",
   "metadata": {},
   "source": [
    "clear text, delete comments (takes a while)"
   ]
  },
  {
   "cell_type": "code",
   "execution_count": 9,
   "metadata": {},
   "outputs": [
    {
     "name": "stderr",
     "output_type": "stream",
     "text": [
      "100%|██████████| 13794/13794 [01:51<00:00, 123.74it/s]\n"
     ]
    }
   ],
   "source": [
    "def get_comments(text, regex, stropstrings):\n",
    "    result = re.findall(regex, text)\n",
    "    result.append(\"()\")\n",
    "    for res in result:\n",
    "        text = text.replace(res, \"\").strip()\n",
    "    for string in stopstrings:\n",
    "        text = text.replace(string, \"\").strip()\n",
    "    return text, result\n",
    "\n",
    "\n",
    "stopstrings = [\"-\\n\", \"\\n\", \"\\x0c\", \"\\xad\"]\n",
    "regex = re.compile(\".*?\\((.*?)\\)\")\n",
    "\n",
    "parldata[\"text_comm\"] = (\n",
    "    parldata[\"text\"]\n",
    "    .str.split(\":\")\n",
    "    .progress_apply(\n",
    "        lambda x: get_comments(\" \".join(x[1:]), regex, stopstrings)\n",
    "        if len(x) > 1\n",
    "        else x[0]\n",
    "    )\n",
    ")"
   ]
  },
  {
   "cell_type": "code",
   "execution_count": 11,
   "metadata": {},
   "outputs": [],
   "source": [
    "parldata[\"comment\"] = parldata[\"text_comm\"].apply(lambda x: x[1] if len(x[1]) > 1 else None)\n",
    "parldata[\"text_strip\"] = parldata[\"text_comm\"].apply(lambda x: x[0])\n",
    "mapping = {\n",
    "    \"Fidesz\": \"Fidesz-KDNP\",\n",
    "    \"KDNP\": \"Fidesz-KDNP\",\n",
    "    \"MSZP\": \"ellenzék\",\n",
    "    \"Jobbik\": \"ellenzék\",\n",
    "    \"DK\": \"ellenzék\",\n",
    "    \"LMP\": \"ellenzék\",\n",
    "    \"Párbeszéd\": \"ellenzék\",\n",
    "}\n",
    "parldata[\"oldal\"] = parldata[\"speaker_party\"].map(mapping)"
   ]
  },
  {
   "cell_type": "markdown",
   "metadata": {},
   "source": [
    "Take a look at an example"
   ]
  },
  {
   "cell_type": "code",
   "execution_count": 26,
   "metadata": {},
   "outputs": [
    {
     "name": "stdout",
     "output_type": "stream",
     "text": [
      "['Közbeszólások a kormánypártok soraiból.', 'Közbeszólások a kormánypártok soraiból.', 'Az elnök a csengő megkocogtatásával jelzi az időkeret leteltét.']\n",
      "\n",
      "\n",
      "Tisztelt Miniszter Úr! Az ön négy és fél perces hozzászólása nem volt más, mint egy elterelés, az egész arról szólt, hogy Orbán Viktor nem mert ma kiállni ide, és nem mert ma a dunaújvárosi tegnapi bődületes vereség után szembenézni az ellenzékkel és szembenézni a magyar emberekkel.  Ehhez képest ön elmotyogott négy és fél percet, valamit a koronavírussal kapcsolatban, amit egészen részletesen és egyébként nagyon korrektül hallottunk már a múlt héten a Népjóléti bizottságban. Ennek így semmi értelme nem volt. És ne vegye zokon, miniszter úr, de ön tényleg azt gondolja, hogy pont ön fogja megnyugtatni a magyar embereket a koronavírussal kapcsolatban, aki rendre a tízparancsolatra szokott hivatkozni az egészségügy állapotával kapcsolatban? Pánik van vagy lesz, aggodalom van, de ön ezekre most itt semmilyen választ nem adott. Nem véletlenül nem adott választ - mert nem tud választ adni az egészségügy alapvető kérdéseire sem, például arra, hogy miért kell 291 napot, azaz tíz hónapot várni egy csípőprotézis-műtétre, miért kell három hónapot várni egy epekőműtétre, miért nincs egy normális, átlagos influenzajárvány esetén elég lélegeztetőgép a gyerekeknek, ahogy az két évvel ezelőtt látszott az intenzív osztályon, miért romlik tíz éve a rákos halálozások száma folyamatosan Magyarországon, először 26 ezren, aztán 31 ezren, most már 46 ezren halnak meg a hivatalos statisztikák szerint idő előtt olyan daganatos megbetegedésben, amit lehetne gyógyítani. Tessék ezzel foglalkozni, tessék komolyan megvédeni a magyar embereket a betegellátásban, az egészségügyben, és nem négy és fél percben elterelni itt a figyelmet - ez valóban komoly kérdés, de - más komoly kérdésekről!Én is azt kérdezem, hogy akkor miért nem Pintér Sándor szólalt fel itt a kormány nevében, ugyanis ha az operatív törzs készenlétéről beszélünk, akkor, azt hiszem, ő részletesebb tájékoztatást tud adni. A koronavírussal kapcsolatban még azt sem láttuk, hogy lenne elég maszk az országban. Tudjuk, hogy gyártják ezeket, de sajnos azt is tudjuk, hogy azok a maszkok nem hatékonyak. Azt is tudjuk, hogy háromszáz háziorvos hiányzik a rendszerből. Ki az, aki a fertőzésgyanús eseteket  megállapítja? Senki. Köszönöm.\n"
     ]
    }
   ],
   "source": [
    "print(parldata.loc[1,\"comment\"])\n",
    "print(\"\\n\")\n",
    "print(parldata.loc[1,\"text_strip\"])"
   ]
  },
  {
   "cell_type": "code",
   "execution_count": 27,
   "metadata": {},
   "outputs": [
    {
     "data": {
      "text/plain": [
       "<AxesSubplot:>"
      ]
     },
     "execution_count": 27,
     "metadata": {},
     "output_type": "execute_result"
    },
    {
     "data": {
      "image/png": "[encoded data removed]",
      "text/plain": [
       "<Figure size 432x288 with 1 Axes>"
      ]
     },
     "metadata": {
      "needs_background": "light"
     },
     "output_type": "display_data"
    }
   ],
   "source": [
    "parldata[\"text_strip\"].apply(len).hist(bins=50)"
   ]
  },
  {
   "cell_type": "code",
   "execution_count": 28,
   "metadata": {},
   "outputs": [
    {
     "data": {
      "text/plain": [
       "<AxesSubplot:>"
      ]
     },
     "execution_count": 28,
     "metadata": {},
     "output_type": "execute_result"
    },
    {
     "data": {
      "image/png": "[encoded data removed]",
      "text/plain": [
       "<Figure size 432x288 with 1 Axes>"
      ]
     },
     "metadata": {
      "needs_background": "light"
     },
     "output_type": "display_data"
    }
   ],
   "source": [
    "parldata[\"text_strip\"].apply(len).apply(lambda x: np.log(x) if x != 0 else None).hist(bins=100)"
   ]
  },
  {
   "cell_type": "code",
   "execution_count": 29,
   "metadata": {},
   "outputs": [],
   "source": [
    "parldata = parldata.filter([\"speaker\",\"speaker_party\",\"type\",\"text_strip\",\"oldal\",\"date\"])"
   ]
  },
  {
   "cell_type": "code",
   "execution_count": 30,
   "metadata": {},
   "outputs": [],
   "source": [
    "parldata.to_csv(data_dir + \"input/parlament_speech_2020.csv\", index=False)"
   ]
  },
  {
   "cell_type": "markdown",
   "metadata": {},
   "source": [
    "## scrape representative name list"
   ]
  },
  {
   "cell_type": "code",
   "execution_count": 31,
   "metadata": {},
   "outputs": [],
   "source": [
    "tables = pd.read_html(\n",
    "    \"https://hu.wikipedia.org/wiki/2018%E2%80%932022_k%C3%B6z%C3%B6tti_magyar_orsz%C3%A1ggy%C5%B1l%C3%A9si_k%C3%A9pvisel%C5%91k_list%C3%A1ja\"\n",
    ")"
   ]
  },
  {
   "cell_type": "code",
   "execution_count": 32,
   "metadata": {},
   "outputs": [],
   "source": [
    "names = pd.concat(\n",
    "    [\n",
    "        tables[3],\n",
    "        tables[4],\n",
    "        tables[5],\n",
    "    ]\n",
    ")\n",
    "\n",
    "names = names.dropna(subset=[\"Név\"])\n",
    "names[\"Név\"] = names[\"Név\"].str.split(\"[\").apply(lambda x: x[0])\n",
    "names = names[[\"Frakció\",\"Mandátum kezdete\",\"Mandátum vége\",\"Név\",\"Választókerület\"]]"
   ]
  },
  {
   "cell_type": "code",
   "execution_count": 33,
   "metadata": {},
   "outputs": [],
   "source": [
    "names.to_csv(data_dir + \"input/representative_names_2018-2020.csv\")"
   ]
  },
  {
   "cell_type": "markdown",
   "metadata": {},
   "source": [
    "## scrape vote outcomes in the 2018 parliamentary elections"
   ]
  },
  {
   "cell_type": "code",
   "execution_count": 34,
   "metadata": {},
   "outputs": [],
   "source": [
    "resp = requests.get(\"https://valtor.valasztas.hu/valtort/jsp/mkiv.jsp?EA=38&URL=7\")\n",
    "soup = BeautifulSoup(resp.content)"
   ]
  },
  {
   "cell_type": "code",
   "execution_count": 35,
   "metadata": {},
   "outputs": [],
   "source": [
    "counties = [\"https://valtor.valasztas.hu/valtort/jsp/\" + i.get(\"href\") for i in soup.find_all(\"a\")]"
   ]
  },
  {
   "cell_type": "code",
   "execution_count": 36,
   "metadata": {},
   "outputs": [],
   "source": [
    "constit = []\n",
    "for county in counties:\n",
    "    resp = requests.get(county)\n",
    "    soup = BeautifulSoup(resp.content)\n",
    "    constit = constit + [\n",
    "        \"https://valtor.valasztas.hu/valtort/jsp/\" + i.get(\"href\")\n",
    "        for i in soup.find_all(\"a\")\n",
    "    ]"
   ]
  },
  {
   "cell_type": "code",
   "execution_count": 37,
   "metadata": {},
   "outputs": [],
   "source": [
    "df = pd.DataFrame()\n",
    "\n",
    "for const in constit:\n",
    "\n",
    "    resp = requests.get(const)\n",
    "    soup = BeautifulSoup(resp.content)\n",
    "\n",
    "    df_c = pd.concat(pd.read_html(str(soup.find_all(\"table\")[-1]), header=0))\n",
    "    df_c[\"const\"] = \" \".join(\n",
    "        [\n",
    "            soup.find_all(\"font\", {\"size\": 4})[1].get_text(),\n",
    "            soup.find_all(\"font\", {\"size\": 3})[1].get_text(),\n",
    "        ]\n",
    "    )\n",
    "    df = pd.concat([df, df_c])\n",
    "    \n",
    "df[\"const\"] = df[\"const\"].str.replace(\"A választás eredményes\", \"BUDAPEST\")"
   ]
  },
  {
   "cell_type": "code",
   "execution_count": 38,
   "metadata": {},
   "outputs": [],
   "source": [
    "df.to_csv(data_dir +\"input/vote_outcomes_2018.csv\")"
   ]
  },
  {
   "cell_type": "code",
   "execution_count": null,
   "metadata": {},
   "outputs": [],
   "source": []
  }
 ],
 "metadata": {
  "kernelspec": {
   "display_name": "Python 3",
   "language": "python",
   "name": "python3"
  },
  "language_info": {
   "codemirror_mode": {
    "name": "ipython",
    "version": 3
   },
   "file_extension": ".py",
   "mimetype": "text/x-python",
   "name": "python",
   "nbconvert_exporter": "python",
   "pygments_lexer": "ipython3",
   "version": "3.8.6"
  }
 },
 "nbformat": 4,
 "nbformat_minor": 4
}
