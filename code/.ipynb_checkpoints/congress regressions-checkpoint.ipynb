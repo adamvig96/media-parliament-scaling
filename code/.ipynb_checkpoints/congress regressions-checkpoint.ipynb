{
 "cells": [
  {
   "cell_type": "code",
   "execution_count": 2,
   "metadata": {},
   "outputs": [],
   "source": [
    "import pandas as pd\n",
    "import numpy as np\n",
    "import seaborn as sns\n",
    "import statsmodels.api as sm\n",
    "data_dir = \"/Users/vigadam/Dropbox/github/media_network/media_data/parliament_speech_text/data/\""
   ]
  },
  {
   "cell_type": "markdown",
   "metadata": {},
   "source": [
    "## create observed ideology yc"
   ]
  },
  {
   "cell_type": "code",
   "execution_count": 183,
   "metadata": {},
   "outputs": [],
   "source": [
    "parldata = pd.read_csv(data_dir + \"parldata_2020.csv\")\n",
    "votedata = pd.read_csv(data_dir + \"2018vote.csv\",index_col = False)"
   ]
  },
  {
   "cell_type": "code",
   "execution_count": 184,
   "metadata": {},
   "outputs": [],
   "source": [
    "votedata = votedata.rename(columns={\"%\": \"perc\", \"Jelölt neve\": \"name\"})\n",
    "votedata[\"ideology\"] = np.where(\n",
    "    votedata[\"Jelölő szervezet(ek)\"] == \"FIDESZ-KDNP\",\n",
    "    votedata[\"perc\"],\n",
    "    -1 * votedata[\"perc\"],\n",
    ")\n",
    "\n",
    "votedata[\"ideology\"] = (votedata[\"ideology\"] - votedata[\"ideology\"].min()) / (\n",
    "    votedata[\"ideology\"].max() - votedata[\"ideology\"].min()\n",
    ")"
   ]
  },
  {
   "cell_type": "code",
   "execution_count": 185,
   "metadata": {},
   "outputs": [
    {
     "name": "stderr",
     "output_type": "stream",
     "text": [
      "<ipython-input-185-d82625e512ca>:1: FutureWarning: The default value of regex will change from True to False in a future version.\n",
      "  votedata[\"name\"] = votedata[\"name\"].str.replace(\"Dr. \",\"\")\n",
      "<ipython-input-185-d82625e512ca>:2: FutureWarning: The default value of regex will change from True to False in a future version.\n",
      "  parldata[\"speaker\"] = parldata[\"speaker\"].str.replace(\"Dr. \",\"\")\n",
      "<ipython-input-185-d82625e512ca>:3: FutureWarning: The default value of regex will change from True to False in a future version.\n",
      "  votedata[\"name\"] = votedata[\"name\"].str.replace(\"V.Németh Zsolt\",\"Németh Zsolt\")\n"
     ]
    }
   ],
   "source": [
    "votedata[\"name\"] = votedata[\"name\"].str.replace(\"Dr. \",\"\")\n",
    "parldata[\"speaker\"] = parldata[\"speaker\"].str.replace(\"Dr. \",\"\")\n",
    "votedata[\"name\"] = votedata[\"name\"].str.replace(\"V.Németh Zsolt\",\"Németh Zsolt\")\n",
    "votedata[\"name\"] = votedata[\"name\"].str.replace(\"Vécsey László József\",\"Vécsey László\")\n",
    "votedata[\"name\"] = votedata[\"name\"].str.replace(\"B Nagy László\",\"B. Nagy László\")"
   ]
  },
  {
   "cell_type": "code",
   "execution_count": 186,
   "metadata": {},
   "outputs": [],
   "source": [
    "yc = (\n",
    "    parldata.filter([\"speaker\", \"oldal\"])\n",
    "    .rename(columns={\"speaker\": \"name\"})\n",
    "    .merge(votedata.filter([\"name\", \"ideology\"]), how=\"left\", on=\"name\")\n",
    "    .drop_duplicates(\"name\")\n",
    ")"
   ]
  },
  {
   "cell_type": "code",
   "execution_count": 187,
   "metadata": {},
   "outputs": [],
   "source": [
    "yc.loc[lambda x: x[\"oldal\"] == \"Fidesz-KDNP\", \"ideology\"] = yc.loc[\n",
    "    lambda x: x[\"oldal\"] == \"Fidesz-KDNP\", \"ideology\"\n",
    "].fillna(yc.groupby(\"oldal\")[\"ideology\"].mean()[\"Fidesz-KDNP\"])\n",
    "\n",
    "yc.loc[lambda x: x[\"oldal\"] == \"ellenzék\", \"ideology\"] = yc.loc[\n",
    "    lambda x: x[\"oldal\"] == \"ellenzék\", \"ideology\"\n",
    "].fillna(yc.groupby(\"oldal\")[\"ideology\"].mean()[\"ellenzék\"])"
   ]
  },
  {
   "cell_type": "code",
   "execution_count": 188,
   "metadata": {},
   "outputs": [
    {
     "data": {
      "text/plain": [
       "<AxesSubplot:>"
      ]
     },
     "execution_count": 188,
     "metadata": {},
     "output_type": "execute_result"
    },
    {
     "data": {
      "image/png": "[encoded data removed]",
      "text/plain": [
       "<Figure size 432x288 with 1 Axes>"
      ]
     },
     "metadata": {
      "needs_background": "light"
     },
     "output_type": "display_data"
    }
   ],
   "source": [
    "yc[\"ideology\"].hist(bins=50)"
   ]
  },
  {
   "cell_type": "code",
   "execution_count": null,
   "metadata": {},
   "outputs": [],
   "source": [
    "yc.to_csv(data_dir + \"yc.csv\")"
   ]
  },
  {
   "cell_type": "markdown",
   "metadata": {},
   "source": [
    "## Calculate  intercept and slope for all phrases"
   ]
  },
  {
   "cell_type": "code",
   "execution_count": 2,
   "metadata": {},
   "outputs": [],
   "source": [
    "freq = pd.read_csv(data_dir + \"frequancy_of_phrases.csv\")\n",
    "freq = pd.read_csv(data_dir + \"frequency_of_stemed_phrases.csv\")\n",
    "yc = pd.read_csv(data_dir + \"yc.csv\")\n",
    "\n",
    "freq = freq.merge(\n",
    "    yc.filter([\"name\", \"ideology\"]), how=\"left\", left_on=\"doc_id\", right_on=\"name\"\n",
    ").drop(columns=[\"doc_id\"])"
   ]
  },
  {
   "cell_type": "code",
   "execution_count": 48,
   "metadata": {},
   "outputs": [],
   "source": [
    "names = freq[\"name\"]\n",
    "yc = freq[\"ideology\"]"
   ]
  },
  {
   "cell_type": "code",
   "execution_count": 49,
   "metadata": {},
   "outputs": [],
   "source": [
    "Phases = freq.iloc[:, :-2].div(freq.sum(axis=1), axis=0)"
   ]
  },
  {
   "cell_type": "code",
   "execution_count": 50,
   "metadata": {},
   "outputs": [],
   "source": [
    "p_a_b = pd.DataFrame(Phases.columns.tolist(), columns=[\"p\"]).assign(a=None, b=None)"
   ]
  },
  {
   "cell_type": "code",
   "execution_count": 51,
   "metadata": {},
   "outputs": [],
   "source": [
    "# estimate intercept and slope parameters\n",
    "for i in range(0, p_a_b.shape[0]):\n",
    "    X = Phases.iloc[:, i]\n",
    "    X = sm.add_constant(X)\n",
    "\n",
    "    model = sm.OLS(yc, X)\n",
    "    results = model.fit()\n",
    "    p_a_b.loc[i, \"a\"] = results.params[0]\n",
    "    p_a_b.loc[i, \"b\"] = results.params[1]"
   ]
  },
  {
   "cell_type": "code",
   "execution_count": 52,
   "metadata": {},
   "outputs": [
    {
     "data": {
      "text/plain": [
       "<AxesSubplot:>"
      ]
     },
     "execution_count": 52,
     "metadata": {},
     "output_type": "execute_result"
    },
    {
     "data": {
      "image/png": "[encoded data removed]",
      "text/plain": [
       "<Figure size 432x288 with 1 Axes>"
      ]
     },
     "metadata": {
      "needs_background": "light"
     },
     "output_type": "display_data"
    }
   ],
   "source": [
    "# slope\n",
    "p_a_b[\"b\"].sort_values().iloc[10:-4].hist(bins=20)"
   ]
  },
  {
   "cell_type": "code",
   "execution_count": 53,
   "metadata": {},
   "outputs": [
    {
     "data": {
      "text/plain": [
       "<AxesSubplot:>"
      ]
     },
     "execution_count": 53,
     "metadata": {},
     "output_type": "execute_result"
    },
    {
     "data": {
      "image/png": "[encoded data removed]",
      "text/plain": [
       "<Figure size 432x288 with 1 Axes>"
      ]
     },
     "metadata": {
      "needs_background": "light"
     },
     "output_type": "display_data"
    }
   ],
   "source": [
    "# intercept\n",
    "p_a_b[\"a\"].hist(bins=20)"
   ]
  },
  {
   "cell_type": "code",
   "execution_count": 13,
   "metadata": {},
   "outputs": [],
   "source": [
    "p_a_b.to_csv(data_dir + \"phrase_intercept_slope.csv\")"
   ]
  },
  {
   "cell_type": "markdown",
   "metadata": {},
   "source": [
    "##  in-sample evidence"
   ]
  },
  {
   "cell_type": "code",
   "execution_count": 4,
   "metadata": {},
   "outputs": [],
   "source": [
    "freq = pd.read_csv(data_dir + \"frequency_of_stemed_phrases.csv\")\n",
    "yc = pd.read_csv(data_dir + \"yc.csv\")\n",
    "p_a_b = pd.read_csv(data_dir + \"phrase_intercept_slope.csv\")\n",
    "\n",
    "freq = freq.merge(\n",
    "    yc.filter([\"name\", \"ideology\"]), how=\"left\", left_on=\"doc_id\", right_on=\"name\"\n",
    ").drop(columns=[\"doc_id\"])"
   ]
  },
  {
   "cell_type": "code",
   "execution_count": 26,
   "metadata": {},
   "outputs": [],
   "source": [
    "def predict_y_hat(freq, p_a_b):\n",
    "    if \"ideology\" in freq.columns.tolist():\n",
    "        Phases = freq.drop(columns=[\"name\", \"ideology\"]).div(freq.sum(axis=1), axis=0)\n",
    "    elif \"name\" in freq.columns.tolist():\n",
    "        Phases = freq.drop(columns=[\"name\"]).div(freq.sum(axis=1), axis=0)\n",
    "    else:\n",
    "        print(\"You should always have a 'name' columns in freq table\")\n",
    "\n",
    "    for i in range(Phases.shape[0]):\n",
    "\n",
    "        out = (\n",
    "            Phases.iloc[i, :]\n",
    "            .T.rename(\"fpn\")\n",
    "            .reset_index()\n",
    "            .merge(p_a_b, left_on=\"index\", right_on=\"p\")\n",
    "            .drop(columns=[\"index\"])\n",
    "            .assign(\n",
    "                f_minus_a_times_b=lambda x: (x[\"fpn\"] - x[\"a\"]) * x[\"b\"],\n",
    "                b_squared=lambda x: x[\"b\"] * x[\"b\"],\n",
    "            )\n",
    "            .sum(axis=0)\n",
    "            .filter([\"f_minus_a_times_b\", \"b_squared\"])\n",
    "        )\n",
    "\n",
    "        freq.loc[i, \"y_hat\"] = out[\"f_minus_a_times_b\"] / out[\"b_squared\"]\n",
    "\n",
    "    freq[\"y_hat\"] = (freq[\"y_hat\"] - freq[\"y_hat\"].min()) / (\n",
    "        freq[\"y_hat\"].max() - freq[\"y_hat\"].min()\n",
    "    )\n",
    "\n",
    "    if \"ideology\" in freq.columns.tolist():\n",
    "        prediction_table = freq.filter([\"name\", \"ideology\", \"y_hat\"]).sort_values(\n",
    "            by=[\"y_hat\"]\n",
    "        )\n",
    "    else:\n",
    "        prediction_table = freq.filter([\"name\", \"y_hat\"]).sort_values(by=[\"y_hat\"])\n",
    "\n",
    "    return prediction_table.reset_index(drop=True)\n",
    "\n",
    "\n",
    "insample_pred = predict_y_hat(freq, p_a_b)"
   ]
  },
  {
   "cell_type": "code",
   "execution_count": 74,
   "metadata": {},
   "outputs": [
    {
     "data": {
      "text/plain": [
       "<AxesSubplot:xlabel='ideology', ylabel='y_hat'>"
      ]
     },
     "execution_count": 74,
     "metadata": {},
     "output_type": "execute_result"
    },
    {
     "data": {
      "image/png": "[encoded data removed]",
      "text/plain": [
       "<Figure size 432x288 with 1 Axes>"
      ]
     },
     "metadata": {
      "needs_background": "light"
     },
     "output_type": "display_data"
    }
   ],
   "source": [
    "sns.regplot(data=insample_pred, x=\"ideology\", y=\"y_hat\")"
   ]
  },
  {
   "cell_type": "code",
   "execution_count": 75,
   "metadata": {},
   "outputs": [
    {
     "data": {
      "text/html": [
       "<div>\n",
       "<style scoped>\n",
       "    .dataframe tbody tr th:only-of-type {\n",
       "        vertical-align: middle;\n",
       "    }\n",
       "\n",
       "    .dataframe tbody tr th {\n",
       "        vertical-align: top;\n",
       "    }\n",
       "\n",
       "    .dataframe thead th {\n",
       "        text-align: right;\n",
       "    }\n",
       "</style>\n",
       "<table border=\"1\" class=\"dataframe\">\n",
       "  <thead>\n",
       "    <tr style=\"text-align: right;\">\n",
       "      <th></th>\n",
       "      <th>ideology</th>\n",
       "      <th>y_hat</th>\n",
       "    </tr>\n",
       "  </thead>\n",
       "  <tbody>\n",
       "    <tr>\n",
       "      <th>ideology</th>\n",
       "      <td>1.000000</td>\n",
       "      <td>0.859753</td>\n",
       "    </tr>\n",
       "    <tr>\n",
       "      <th>y_hat</th>\n",
       "      <td>0.859753</td>\n",
       "      <td>1.000000</td>\n",
       "    </tr>\n",
       "  </tbody>\n",
       "</table>\n",
       "</div>"
      ],
      "text/plain": [
       "          ideology     y_hat\n",
       "ideology  1.000000  0.859753\n",
       "y_hat     0.859753  1.000000"
      ]
     },
     "execution_count": 75,
     "metadata": {},
     "output_type": "execute_result"
    }
   ],
   "source": [
    "insample_pred[[\"ideology\", \"y_hat\"]].corr()"
   ]
  },
  {
   "cell_type": "markdown",
   "metadata": {},
   "source": [
    "## prediction on media"
   ]
  },
  {
   "cell_type": "code",
   "execution_count": 7,
   "metadata": {},
   "outputs": [],
   "source": [
    "freq = pd.read_csv(data_dir + \"frequency_of_stemed_media_phrases.csv\").rename(\n",
    "    columns={\"doc_id\": \"name\"}\n",
    ")\n",
    "p_a_b = pd.read_csv(data_dir + \"phrase_intercept_slope.csv\")"
   ]
  },
  {
   "cell_type": "code",
   "execution_count": 67,
   "metadata": {},
   "outputs": [],
   "source": [
    "pred = predict_y_hat(freq, p_a_b)"
   ]
  },
  {
   "cell_type": "code",
   "execution_count": 68,
   "metadata": {},
   "outputs": [
    {
     "data": {
      "image/png": "[encoded data removed]",
      "text/plain": [
       "<Figure size 720x144 with 1 Axes>"
      ]
     },
     "metadata": {
      "needs_background": "light"
     },
     "output_type": "display_data"
    }
   ],
   "source": [
    "import numpy as np\n",
    "import matplotlib.pyplot as plt\n",
    "\n",
    "# this is the value where you want the data to appear on the y-axis.\n",
    "\n",
    "fig, ax = plt.subplots(figsize=(10,2))\n",
    "ax.plot(\n",
    "    pred[\"y_hat\"],\n",
    "    np.zeros_like(pred[\"y_hat\"]),\n",
    "    \"|\",\n",
    "    markersize=15,\n",
    "    markeredgewidth=2,\n",
    "    markeredgecolor=\"k\",\n",
    "    markerfacecolor=\"w\",\n",
    ")\n",
    "ax.set_yticklabels([])\n",
    "\n",
    "#ax.set_ylim([ymin,ymax])\n",
    "\n",
    "for i, txt in enumerate(pred[\"name\"]):\n",
    "    ax.annotate(\n",
    "        txt,\n",
    "        (pred[\"y_hat\"][i], np.zeros_like(pred[\"y_hat\"])[i]),\n",
    "        xytext=(pred[\"y_hat\"][i] - 0.03, np.zeros_like(pred[\"y_hat\"])[i] + 0.01),\n",
    "    )\n",
    "\n",
    "\n",
    "plt.show()"
   ]
  },
  {
   "cell_type": "code",
   "execution_count": null,
   "metadata": {},
   "outputs": [],
   "source": []
  }
 ],
 "metadata": {
  "kernelspec": {
   "display_name": "Python 3",
   "language": "python",
   "name": "python3"
  },
  "language_info": {
   "codemirror_mode": {
    "name": "ipython",
    "version": 3
   },
   "file_extension": ".py",
   "mimetype": "text/x-python",
   "name": "python",
   "nbconvert_exporter": "python",
   "pygments_lexer": "ipython3",
   "version": "3.8.6"
  }
 },
 "nbformat": 4,
 "nbformat_minor": 4
}
