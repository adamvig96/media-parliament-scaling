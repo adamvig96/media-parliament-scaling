{
 "cells": [
  {
   "cell_type": "code",
   "execution_count": 2,
   "metadata": {},
   "outputs": [],
   "source": [
    "import pandas as pd\n",
    "import re\n",
    "from tqdm import tqdm\n",
    "tqdm.pandas()\n",
    "data_dir = \"/Users/vigadam/Dropbox/github/media_network/media_data/parliament_speech_text/data/\""
   ]
  },
  {
   "cell_type": "code",
   "execution_count": 4,
   "metadata": {},
   "outputs": [],
   "source": [
    "data = pd.read_csv(data_dir + \"parldata_2020.csv\")\n",
    "parties = [\"Fidesz\", \"KDNP\", \"Jobbik\", \"MSZP\", \"DK\", \"LMP\", \"Párbeszéd\"]"
   ]
  },
  {
   "cell_type": "code",
   "execution_count": 5,
   "metadata": {},
   "outputs": [],
   "source": [
    "data = data.assign(year=lambda x: x[\"date\"].apply(lambda x: x[0:4]))"
   ]
  },
  {
   "cell_type": "code",
   "execution_count": 6,
   "metadata": {},
   "outputs": [
    {
     "data": {
      "text/plain": [
       "['ELNÖK', ' Államtitkár úr, lejárt az ideje egy ideje.']"
      ]
     },
     "execution_count": 6,
     "metadata": {},
     "output_type": "execute_result"
    }
   ],
   "source": [
    "data.loc[10599,\"text\"].split(\":\")"
   ]
  },
  {
   "cell_type": "code",
   "execution_count": 7,
   "metadata": {},
   "outputs": [],
   "source": [
    "stopstrings = [\"-\\n\", \"\\n\", \"\\x0c\", \"\\xad\"]"
   ]
  },
  {
   "cell_type": "code",
   "execution_count": 8,
   "metadata": {},
   "outputs": [
    {
     "name": "stderr",
     "output_type": "stream",
     "text": [
      "100%|██████████| 12820/12820 [02:05<00:00, 101.82it/s]\n"
     ]
    }
   ],
   "source": [
    "def get_comments(text, regex, stropstrings):\n",
    "    result = re.findall(regex, text)\n",
    "    result.append(\"()\")\n",
    "    for res in result:\n",
    "        text = text.replace(res, \"\").strip()\n",
    "    for string in stopstrings:\n",
    "        text = text.replace(string, \"\").strip()\n",
    "    return text, result\n",
    "\n",
    "\n",
    "stopstrings = [\"-\\n\", \"\\n\", \"\\x0c\", \"\\xad\"]\n",
    "regex = re.compile(\".*?\\((.*?)\\)\")\n",
    "\n",
    "data[\"text_comm\"] = (\n",
    "    data[\"text\"]\n",
    "    .str.split(\":\")\n",
    "    .progress_apply(\n",
    "        lambda x: get_comments(x[1], regex, stopstrings) if len(x) > 1 else x[0]\n",
    "    )\n",
    ")"
   ]
  },
  {
   "cell_type": "code",
   "execution_count": 9,
   "metadata": {},
   "outputs": [],
   "source": [
    "data[\"comment\"] = data[\"text_comm\"].apply(lambda x: x[1] if len(x[1]) > 1 else None)\n",
    "data[\"text_strip\"] = data[\"text_comm\"].apply(lambda x: x[0])\n",
    "mapping = {\n",
    "    \"Fidesz\": \"Fidesz-KDNP\",\n",
    "    \"KDNP\": \"Fidesz-KDNP\",\n",
    "    \"MSZP\": \"ellenzék\",\n",
    "    \"Jobbik\": \"ellenzék\",\n",
    "    \"DK\": \"ellenzék\",\n",
    "    \"LMP\": \"ellenzék\",\n",
    "    \"Párbeszéd\": \"ellenzék\",\n",
    "}\n",
    "data[\"oldal\"] = data[\"speaker_party\"].map(mapping)"
   ]
  },
  {
   "cell_type": "code",
   "execution_count": 11,
   "metadata": {},
   "outputs": [],
   "source": [
    "data.to_csv(data_dir + \"parldata_2020.csv\", index=False)"
   ]
  },
  {
   "cell_type": "code",
   "execution_count": null,
   "metadata": {},
   "outputs": [],
   "source": []
  },
  {
   "cell_type": "code",
   "execution_count": null,
   "metadata": {},
   "outputs": [],
   "source": []
  },
  {
   "cell_type": "code",
   "execution_count": null,
   "metadata": {},
   "outputs": [],
   "source": []
  },
  {
   "cell_type": "markdown",
   "metadata": {},
   "source": [
    "## representative name list"
   ]
  },
  {
   "cell_type": "code",
   "execution_count": 15,
   "metadata": {},
   "outputs": [],
   "source": [
    "tables = pd.read_html(\n",
    "    \"https://hu.wikipedia.org/wiki/2018%E2%80%932022_k%C3%B6z%C3%B6tti_magyar_orsz%C3%A1ggy%C5%B1l%C3%A9si_k%C3%A9pvisel%C5%91k_list%C3%A1ja\"\n",
    ")"
   ]
  },
  {
   "cell_type": "code",
   "execution_count": 16,
   "metadata": {},
   "outputs": [],
   "source": [
    "names = pd.concat(\n",
    "    [\n",
    "        tables[3],\n",
    "        tables[4],\n",
    "        tables[5],\n",
    "    ]\n",
    ")\n",
    "\n",
    "names = names.dropna(subset=[\"Név\"])\n",
    "names[\"Név\"] = names[\"Név\"].str.split(\"[\").apply(lambda x: x[0])\n",
    "names = names[[\"Frakció\",\"Mandátum kezdete\",\"Mandátum vége\",\"Név\",\"Választókerület\"]]"
   ]
  },
  {
   "cell_type": "code",
   "execution_count": 17,
   "metadata": {},
   "outputs": [],
   "source": [
    "names.to_csv(data_dir + \"ogy_nevek_1820.csv\")"
   ]
  },
  {
   "cell_type": "code",
   "execution_count": null,
   "metadata": {},
   "outputs": [],
   "source": []
  }
 ],
 "metadata": {
  "kernelspec": {
   "display_name": "Python 3",
   "language": "python",
   "name": "python3"
  },
  "language_info": {
   "codemirror_mode": {
    "name": "ipython",
    "version": 3
   },
   "file_extension": ".py",
   "mimetype": "text/x-python",
   "name": "python",
   "nbconvert_exporter": "python",
   "pygments_lexer": "ipython3",
   "version": "3.8.6"
  }
 },
 "nbformat": 4,
 "nbformat_minor": 4
}
