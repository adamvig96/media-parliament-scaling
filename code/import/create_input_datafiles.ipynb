{
 "cells": [
  {
   "cell_type": "markdown",
   "metadata": {},
   "source": [
    "## this code...\n",
    "\n",
    "- downloads parliamentary speech corpus in 2020, delete comments from text\n",
    "- downloads the names and party of representatives from 2018 to 2020\n",
    "- downloads voting outcomes of the 2018 hungarian parliamentary elections\n",
    "\n",
    "NOTE: media outlet coprus is added independently"
   ]
  },
  {
   "cell_type": "markdown",
   "metadata": {},
   "source": [
    "## import necessary packages"
   ]
  },
  {
   "cell_type": "code",
   "execution_count": 1,
   "metadata": {},
   "outputs": [],
   "source": [
    "import pandas as pd\n",
    "import numpy as np\n",
    "import re\n",
    "import requests\n",
    "import json\n",
    "from bs4 import BeautifulSoup\n",
    "from tqdm import tqdm\n",
    "from gzip import decompress\n",
    "from json import loads\n",
    "from requests import get\n",
    "\n",
    "tqdm.pandas()\n",
    "data_dir = \"/Users/vigadam/Dropbox/github/media_network/media_data/media-parliament-scaling/data/\""
   ]
  },
  {
   "cell_type": "markdown",
   "metadata": {},
   "source": [
    "## download and clean 2018-2020 and 2014-2018 parliament text"
   ]
  },
  {
   "cell_type": "markdown",
   "metadata": {},
   "source": [
    "I asked for data at Kmonitor, they built this [project](https://k-monitor.github.io/parliamentary_debates_open/) and already scraped raw data from parliament website."
   ]
  },
  {
   "cell_type": "code",
   "execution_count": 2,
   "metadata": {},
   "outputs": [],
   "source": [
    "corpus_urls = [\n",
    "    \"https://parldatastorage.blob.core.windows.net/parldata-crawler-results/parldata-41.2018-10-07T13-32-33.json.gz\",\n",
    "    \"https://parldatastorage.blob.core.windows.net/parldata-crawler-results/parldata-41.2019-01-27T19-35-32.json.gz\",\n",
    "    \"https://parldatastorage.blob.core.windows.net/parldata-crawler-results/parldata-41.2019-04-28T13-42-41.json.gz\",\n",
    "    \"https://parldatastorage.blob.core.windows.net/parldata-crawler-results/parldata-41.2019-06-13T19-33-47.json.gz\",\n",
    "    \"https://parldatastorage.blob.core.windows.net/parldata-crawler-results/parldata-41.2019-10-23T15-03-10.json.gz\",\n",
    "    \"https://parldatastorage.blob.core.windows.net/parldata-crawler-results/parldata-41.2020-01-14T19-25-52.json.gz\",\n",
    "    \"https://parldatastorage.blob.core.windows.net/parldata-crawler-results/parldata-41.2020-11-29T14-11-09.json.gz\",\n",
    "]"
   ]
  },
  {
   "cell_type": "code",
   "execution_count": 2,
   "metadata": {},
   "outputs": [],
   "source": [
    "corpus_urls = [\n",
    "    \"https://parldatastorage.blob.core.windows.net/parldata-crawler-results/parldata-40.2018-04-29T19-09-17.json.gz\"\n",
    "]"
   ]
  },
  {
   "cell_type": "code",
   "execution_count": 3,
   "metadata": {},
   "outputs": [],
   "source": [
    "def get_gzipped_json(url):\n",
    "    return loads(decompress(get(url).content))"
   ]
  },
  {
   "cell_type": "markdown",
   "metadata": {},
   "source": [
    "download data"
   ]
  },
  {
   "cell_type": "code",
   "execution_count": 4,
   "metadata": {},
   "outputs": [],
   "source": [
    "parldata = pd.DataFrame()\n",
    "for url in corpus_urls:\n",
    "    chunk = pd.DataFrame(get_gzipped_json(url))\n",
    "    chunk[\"date\"] = chunk[\"plenary_sitting_details\"].apply(lambda x: x[\"date\"])\n",
    "    parldata = pd.concat(\n",
    "        [parldata, chunk.sort_values(by=[\"date\", \"id\"]).reset_index(drop=True)]\n",
    "    )"
   ]
  },
  {
   "cell_type": "code",
   "execution_count": 5,
   "metadata": {},
   "outputs": [
    {
     "data": {
      "text/html": [
       "<div>\n",
       "<style scoped>\n",
       "    .dataframe tbody tr th:only-of-type {\n",
       "        vertical-align: middle;\n",
       "    }\n",
       "\n",
       "    .dataframe tbody tr th {\n",
       "        vertical-align: top;\n",
       "    }\n",
       "\n",
       "    .dataframe thead th {\n",
       "        text-align: right;\n",
       "    }\n",
       "</style>\n",
       "<table border=\"1\" class=\"dataframe\">\n",
       "  <thead>\n",
       "    <tr style=\"text-align: right;\">\n",
       "      <th></th>\n",
       "      <th>speaker_url</th>\n",
       "      <th>video_url</th>\n",
       "      <th>next_speech_url</th>\n",
       "      <th>speaker</th>\n",
       "      <th>id</th>\n",
       "      <th>topic</th>\n",
       "      <th>url</th>\n",
       "      <th>text</th>\n",
       "      <th>plenary_sitting_details</th>\n",
       "      <th>speaker_party</th>\n",
       "      <th>duration</th>\n",
       "      <th>type</th>\n",
       "      <th>prev_speech_url</th>\n",
       "      <th>bill_url</th>\n",
       "      <th>bill_title</th>\n",
       "      <th>started_at</th>\n",
       "      <th>committee</th>\n",
       "      <th>date</th>\n",
       "    </tr>\n",
       "  </thead>\n",
       "  <tbody>\n",
       "    <tr>\n",
       "      <th>0</th>\n",
       "      <td>http://www.parlament.hu/internet/plsql/ogy_kpv...</td>\n",
       "      <td>http://sgis.parlament.hu/archive/playseq.php?d...</td>\n",
       "      <td>http://www.parlament.hu/internet/plsql/ogy_nap...</td>\n",
       "      <td>Dr. Áder János</td>\n",
       "      <td>40-1-1</td>\n",
       "      <td>Ülésnap megnyitása</td>\n",
       "      <td>http://www.parlament.hu/internet/plsql/ogy_nap...</td>\n",
       "      <td>DR. ÁDER JÁNOS köztársasági elnök: Tisztelt Or...</td>\n",
       "      <td>{'video_url': 'http://sgis.parlament.hu/archiv...</td>\n",
       "      <td>NaN</td>\n",
       "      <td>19:03</td>\n",
       "      <td>Az ülésnap megnyitása</td>\n",
       "      <td>NaN</td>\n",
       "      <td>NaN</td>\n",
       "      <td>NaN</td>\n",
       "      <td>10:08:00</td>\n",
       "      <td>köztársasági elnök</td>\n",
       "      <td>2014.05.06.</td>\n",
       "    </tr>\n",
       "    <tr>\n",
       "      <th>1</th>\n",
       "      <td>http://www.parlament.hu/internet/plsql/ogy_kpv...</td>\n",
       "      <td>http://sgis.parlament.hu/archive/playseq.php?d...</td>\n",
       "      <td>http://www.parlament.hu/internet/plsql/ogy_nap...</td>\n",
       "      <td>Dr. Turi-Kovács Béla</td>\n",
       "      <td>40-1-10</td>\n",
       "      <td>Mandátumigazolás tárgyalása</td>\n",
       "      <td>http://www.parlament.hu/internet/plsql/ogy_nap...</td>\n",
       "      <td>ELNÖK: Tisztelt Országgyűlés! A határozati ház...</td>\n",
       "      <td>{'video_url': 'http://sgis.parlament.hu/archiv...</td>\n",
       "      <td>Fidesz</td>\n",
       "      <td>0:48</td>\n",
       "      <td>ülésvezetés</td>\n",
       "      <td>http://www.parlament.hu/internet/plsql/ogy_nap...</td>\n",
       "      <td>NaN</td>\n",
       "      <td>NaN</td>\n",
       "      <td>NaN</td>\n",
       "      <td>az Országgyűlés korelnöke</td>\n",
       "      <td>2014.05.06.</td>\n",
       "    </tr>\n",
       "    <tr>\n",
       "      <th>2</th>\n",
       "      <td>http://www.parlament.hu/internet/plsql/ogy_kpv...</td>\n",
       "      <td>http://sgis.parlament.hu/archive/playseq.php?d...</td>\n",
       "      <td>http://www.parlament.hu/internet/plsql/ogy_nap...</td>\n",
       "      <td>Dr. Turi-Kovács Béla</td>\n",
       "      <td>40-1-11</td>\n",
       "      <td>Mandátumigazolás tárgyalása</td>\n",
       "      <td>http://www.parlament.hu/internet/plsql/ogy_nap...</td>\n",
       "      <td>ELNÖK: (Csenget.) Tisztelt Országgyűlés! A man...</td>\n",
       "      <td>{'video_url': 'http://sgis.parlament.hu/archiv...</td>\n",
       "      <td>Fidesz</td>\n",
       "      <td>0:26</td>\n",
       "      <td>ülésvezetés</td>\n",
       "      <td>http://www.parlament.hu/internet/plsql/ogy_nap...</td>\n",
       "      <td>NaN</td>\n",
       "      <td>NaN</td>\n",
       "      <td>NaN</td>\n",
       "      <td>az Országgyűlés korelnöke</td>\n",
       "      <td>2014.05.06.</td>\n",
       "    </tr>\n",
       "    <tr>\n",
       "      <th>3</th>\n",
       "      <td>http://www.parlament.hu/internet/plsql/ogy_kpv...</td>\n",
       "      <td>http://sgis.parlament.hu/archive/playseq.php?d...</td>\n",
       "      <td>http://www.parlament.hu/internet/plsql/ogy_nap...</td>\n",
       "      <td>Ágh Péter</td>\n",
       "      <td>40-1-12</td>\n",
       "      <td>Mandátumigazolás tárgyalása</td>\n",
       "      <td>http://www.parlament.hu/internet/plsql/ogy_nap...</td>\n",
       "      <td>ÁGH PÉTER (Fidesz): Tisztelt Országgyűlés! A n...</td>\n",
       "      <td>{'video_url': 'http://sgis.parlament.hu/archiv...</td>\n",
       "      <td>Fidesz</td>\n",
       "      <td>0:21</td>\n",
       "      <td>jegyzői ismertetés</td>\n",
       "      <td>http://www.parlament.hu/internet/plsql/ogy_nap...</td>\n",
       "      <td>NaN</td>\n",
       "      <td>NaN</td>\n",
       "      <td>12:05:00</td>\n",
       "      <td>NaN</td>\n",
       "      <td>2014.05.06.</td>\n",
       "    </tr>\n",
       "    <tr>\n",
       "      <th>4</th>\n",
       "      <td>http://www.parlament.hu/internet/plsql/ogy_kpv...</td>\n",
       "      <td>http://sgis.parlament.hu/archive/playseq.php?d...</td>\n",
       "      <td>http://www.parlament.hu/internet/plsql/ogy_nap...</td>\n",
       "      <td>Dr. Turi-Kovács Béla</td>\n",
       "      <td>40-1-13</td>\n",
       "      <td>Mandátumigazolás tárgyalása</td>\n",
       "      <td>http://www.parlament.hu/internet/plsql/ogy_nap...</td>\n",
       "      <td>ELNÖK: Tisztelt Országgyűlés! A mandátumvizsgá...</td>\n",
       "      <td>{'video_url': 'http://sgis.parlament.hu/archiv...</td>\n",
       "      <td>Fidesz</td>\n",
       "      <td>2:57</td>\n",
       "      <td>Országgyűlés határozatképes</td>\n",
       "      <td>http://www.parlament.hu/internet/plsql/ogy_nap...</td>\n",
       "      <td>NaN</td>\n",
       "      <td>NaN</td>\n",
       "      <td>NaN</td>\n",
       "      <td>NaN</td>\n",
       "      <td>2014.05.06.</td>\n",
       "    </tr>\n",
       "  </tbody>\n",
       "</table>\n",
       "</div>"
      ],
      "text/plain": [
       "                                         speaker_url  \\\n",
       "0  http://www.parlament.hu/internet/plsql/ogy_kpv...   \n",
       "1  http://www.parlament.hu/internet/plsql/ogy_kpv...   \n",
       "2  http://www.parlament.hu/internet/plsql/ogy_kpv...   \n",
       "3  http://www.parlament.hu/internet/plsql/ogy_kpv...   \n",
       "4  http://www.parlament.hu/internet/plsql/ogy_kpv...   \n",
       "\n",
       "                                           video_url  \\\n",
       "0  http://sgis.parlament.hu/archive/playseq.php?d...   \n",
       "1  http://sgis.parlament.hu/archive/playseq.php?d...   \n",
       "2  http://sgis.parlament.hu/archive/playseq.php?d...   \n",
       "3  http://sgis.parlament.hu/archive/playseq.php?d...   \n",
       "4  http://sgis.parlament.hu/archive/playseq.php?d...   \n",
       "\n",
       "                                     next_speech_url               speaker  \\\n",
       "0  http://www.parlament.hu/internet/plsql/ogy_nap...        Dr. Áder János   \n",
       "1  http://www.parlament.hu/internet/plsql/ogy_nap...  Dr. Turi-Kovács Béla   \n",
       "2  http://www.parlament.hu/internet/plsql/ogy_nap...  Dr. Turi-Kovács Béla   \n",
       "3  http://www.parlament.hu/internet/plsql/ogy_nap...             Ágh Péter   \n",
       "4  http://www.parlament.hu/internet/plsql/ogy_nap...  Dr. Turi-Kovács Béla   \n",
       "\n",
       "        id                        topic  \\\n",
       "0   40-1-1           Ülésnap megnyitása   \n",
       "1  40-1-10  Mandátumigazolás tárgyalása   \n",
       "2  40-1-11  Mandátumigazolás tárgyalása   \n",
       "3  40-1-12  Mandátumigazolás tárgyalása   \n",
       "4  40-1-13  Mandátumigazolás tárgyalása   \n",
       "\n",
       "                                                 url  \\\n",
       "0  http://www.parlament.hu/internet/plsql/ogy_nap...   \n",
       "1  http://www.parlament.hu/internet/plsql/ogy_nap...   \n",
       "2  http://www.parlament.hu/internet/plsql/ogy_nap...   \n",
       "3  http://www.parlament.hu/internet/plsql/ogy_nap...   \n",
       "4  http://www.parlament.hu/internet/plsql/ogy_nap...   \n",
       "\n",
       "                                                text  \\\n",
       "0  DR. ÁDER JÁNOS köztársasági elnök: Tisztelt Or...   \n",
       "1  ELNÖK: Tisztelt Országgyűlés! A határozati ház...   \n",
       "2  ELNÖK: (Csenget.) Tisztelt Országgyűlés! A man...   \n",
       "3  ÁGH PÉTER (Fidesz): Tisztelt Országgyűlés! A n...   \n",
       "4  ELNÖK: Tisztelt Országgyűlés! A mandátumvizsgá...   \n",
       "\n",
       "                             plenary_sitting_details speaker_party duration  \\\n",
       "0  {'video_url': 'http://sgis.parlament.hu/archiv...           NaN    19:03   \n",
       "1  {'video_url': 'http://sgis.parlament.hu/archiv...        Fidesz     0:48   \n",
       "2  {'video_url': 'http://sgis.parlament.hu/archiv...        Fidesz     0:26   \n",
       "3  {'video_url': 'http://sgis.parlament.hu/archiv...        Fidesz     0:21   \n",
       "4  {'video_url': 'http://sgis.parlament.hu/archiv...        Fidesz     2:57   \n",
       "\n",
       "                          type  \\\n",
       "0        Az ülésnap megnyitása   \n",
       "1                  ülésvezetés   \n",
       "2                  ülésvezetés   \n",
       "3           jegyzői ismertetés   \n",
       "4  Országgyűlés határozatképes   \n",
       "\n",
       "                                     prev_speech_url bill_url bill_title  \\\n",
       "0                                                NaN      NaN        NaN   \n",
       "1  http://www.parlament.hu/internet/plsql/ogy_nap...      NaN        NaN   \n",
       "2  http://www.parlament.hu/internet/plsql/ogy_nap...      NaN        NaN   \n",
       "3  http://www.parlament.hu/internet/plsql/ogy_nap...      NaN        NaN   \n",
       "4  http://www.parlament.hu/internet/plsql/ogy_nap...      NaN        NaN   \n",
       "\n",
       "  started_at                  committee         date  \n",
       "0   10:08:00         köztársasági elnök  2014.05.06.  \n",
       "1        NaN  az Országgyűlés korelnöke  2014.05.06.  \n",
       "2        NaN  az Országgyűlés korelnöke  2014.05.06.  \n",
       "3   12:05:00                        NaN  2014.05.06.  \n",
       "4        NaN                        NaN  2014.05.06.  "
      ]
     },
     "execution_count": 5,
     "metadata": {},
     "output_type": "execute_result"
    }
   ],
   "source": [
    "parldata.head()"
   ]
  },
  {
   "cell_type": "markdown",
   "metadata": {},
   "source": [
    "filter for 2020"
   ]
  },
  {
   "cell_type": "markdown",
   "metadata": {},
   "source": [
    "parldata = (\n",
    "    parldata.assign(year=lambda x: x[\"date\"].apply(lambda x: x[0:4]))\n",
    "    .loc[lambda x: (x[\"year\"] == \"2020\") | (x[\"year\"] == \"2019\")]\n",
    "    .reset_index(drop=True)\n",
    ")"
   ]
  },
  {
   "cell_type": "code",
   "execution_count": 6,
   "metadata": {},
   "outputs": [
    {
     "data": {
      "text/plain": [
       "(53718, 18)"
      ]
     },
     "execution_count": 6,
     "metadata": {},
     "output_type": "execute_result"
    }
   ],
   "source": [
    "parldata.shape"
   ]
  },
  {
   "cell_type": "markdown",
   "metadata": {},
   "source": [
    "clear text, delete comments (takes a while)"
   ]
  },
  {
   "cell_type": "code",
   "execution_count": 7,
   "metadata": {},
   "outputs": [
    {
     "name": "stderr",
     "output_type": "stream",
     "text": [
      "100%|██████████| 53718/53718 [04:31<00:00, 197.55it/s]\n"
     ]
    }
   ],
   "source": [
    "def get_comments(text, regex, stropstrings):\n",
    "    result = re.findall(regex, text)\n",
    "    result.append(\"()\")\n",
    "    for res in result:\n",
    "        text = text.replace(res, \"\").strip()\n",
    "    for string in stopstrings:\n",
    "        text = text.replace(string, \"\").strip()\n",
    "    return text, result\n",
    "\n",
    "\n",
    "stopstrings = [\"-\\n\", \"\\n\", \"\\x0c\", \"\\xad\"]\n",
    "regex = re.compile(\".*?\\((.*?)\\)\")\n",
    "\n",
    "parldata[\"text_comm\"] = (\n",
    "    parldata[\"text\"]\n",
    "    .str.split(\":\")\n",
    "    .progress_apply(\n",
    "        lambda x: get_comments(\" \".join(x[1:]), regex, stopstrings)\n",
    "        if len(x) > 1\n",
    "        else x[0]\n",
    "    )\n",
    ")"
   ]
  },
  {
   "cell_type": "code",
   "execution_count": 8,
   "metadata": {},
   "outputs": [],
   "source": [
    "parldata[\"comment\"] = parldata[\"text_comm\"].apply(lambda x: x[1] if len(x[1]) > 1 else None)\n",
    "parldata[\"text_strip\"] = parldata[\"text_comm\"].apply(lambda x: x[0])\n",
    "mapping = {\n",
    "    \"Fidesz\": \"Fidesz-KDNP\",\n",
    "    \"KDNP\": \"Fidesz-KDNP\",\n",
    "    \"MSZP\": \"ellenzék\",\n",
    "    \"Jobbik\": \"ellenzék\",\n",
    "    \"DK\": \"ellenzék\",\n",
    "    \"LMP\": \"ellenzék\",\n",
    "    \"Párbeszéd\": \"ellenzék\",\n",
    "}\n",
    "parldata[\"oldal\"] = parldata[\"speaker_party\"].map(mapping)"
   ]
  },
  {
   "cell_type": "markdown",
   "metadata": {},
   "source": [
    "Take a look at an example"
   ]
  },
  {
   "cell_type": "code",
   "execution_count": 9,
   "metadata": {},
   "outputs": [],
   "source": [
    "parldata = parldata.reset_index(drop=True)"
   ]
  },
  {
   "cell_type": "code",
   "execution_count": 10,
   "metadata": {},
   "outputs": [
    {
     "name": "stdout",
     "output_type": "stream",
     "text": [
      "['20.00', '()']\n",
      "\n",
      "\n",
      "Köszönöm. Tisztelt Országgyűlés! Most a képviselőcsoportok 30-30 perces időtartamban fejthetik ki álláspontjukat, a független képviselők pedig összesen 8 perces időtartamban szólalhatnak fel.Először az írásban előre jelentkezett képviselőknek adom meg a szót. Megadom a szót Czunyiné dr. Bertalan Judit képviselő asszonynak.\n"
     ]
    }
   ],
   "source": [
    "print(parldata.loc[100,\"comment\"])\n",
    "print(\"\\n\")\n",
    "print(parldata.loc[100,\"text_strip\"])"
   ]
  },
  {
   "cell_type": "code",
   "execution_count": 11,
   "metadata": {},
   "outputs": [
    {
     "data": {
      "text/plain": [
       "<AxesSubplot:>"
      ]
     },
     "execution_count": 11,
     "metadata": {},
     "output_type": "execute_result"
    },
    {
     "data": {
      "image/png": "[encoded data removed]",
      "text/plain": [
       "<Figure size 432x288 with 1 Axes>"
      ]
     },
     "metadata": {
      "needs_background": "light"
     },
     "output_type": "display_data"
    }
   ],
   "source": [
    "parldata[\"text_strip\"].apply(len).hist(bins=50)"
   ]
  },
  {
   "cell_type": "code",
   "execution_count": 12,
   "metadata": {},
   "outputs": [
    {
     "data": {
      "text/plain": [
       "<AxesSubplot:>"
      ]
     },
     "execution_count": 12,
     "metadata": {},
     "output_type": "execute_result"
    },
    {
     "data": {
      "image/png": "[encoded data removed]",
      "text/plain": [
       "<Figure size 432x288 with 1 Axes>"
      ]
     },
     "metadata": {
      "needs_background": "light"
     },
     "output_type": "display_data"
    }
   ],
   "source": [
    "parldata[\"text_strip\"].apply(len).apply(lambda x: np.log(x) if x != 0 else None).hist(bins=100)"
   ]
  },
  {
   "cell_type": "code",
   "execution_count": 13,
   "metadata": {},
   "outputs": [],
   "source": [
    "parldata = parldata.filter([\"speaker\",\"speaker_party\",\"type\",\"text_strip\",\"oldal\",\"date\"])"
   ]
  },
  {
   "cell_type": "code",
   "execution_count": 14,
   "metadata": {},
   "outputs": [],
   "source": [
    "parldata.to_csv(data_dir + \"input/parlament_speech_2014-2018.csv\", index=False)"
   ]
  },
  {
   "cell_type": "markdown",
   "metadata": {},
   "source": [
    "## scrape representative name list"
   ]
  },
  {
   "cell_type": "code",
   "execution_count": 31,
   "metadata": {},
   "outputs": [],
   "source": [
    "# 2018-\n",
    "tables = pd.read_html(\n",
    "    \"https://hu.wikipedia.org/wiki/2018%E2%80%932022_k%C3%B6z%C3%B6tti_magyar_orsz%C3%A1ggy%C5%B1l%C3%A9si_k%C3%A9pvisel%C5%91k_list%C3%A1ja\"\n",
    ")"
   ]
  },
  {
   "cell_type": "code",
   "execution_count": 15,
   "metadata": {},
   "outputs": [],
   "source": [
    "# 2014-2018\n",
    "tables = pd.read_html(\n",
    "    \"https://hu.wikipedia.org/wiki/2014%E2%80%932018_k%C3%B6z%C3%B6tti_magyar_orsz%C3%A1ggy%C5%B1l%C3%A9si_k%C3%A9pvisel%C5%91k_list%C3%A1ja\"\n",
    ")"
   ]
  },
  {
   "cell_type": "code",
   "execution_count": 16,
   "metadata": {},
   "outputs": [],
   "source": [
    "names = pd.concat(\n",
    "    [\n",
    "        tables[3],\n",
    "        tables[4],\n",
    "        tables[5],\n",
    "    ]\n",
    ")\n",
    "\n",
    "names = names.dropna(subset=[\"Név\"])\n",
    "names[\"Név\"] = names[\"Név\"].str.split(\"[\").apply(lambda x: x[0])\n",
    "names = names[[\"Frakció\",\"Mandátum kezdete\",\"Mandátum vége\",\"Név\",\"Választókerület\"]]"
   ]
  },
  {
   "cell_type": "code",
   "execution_count": 20,
   "metadata": {},
   "outputs": [],
   "source": [
    "names.to_csv(data_dir + \"input/representative_names_2014-2018.csv\")"
   ]
  },
  {
   "cell_type": "markdown",
   "metadata": {},
   "source": [
    "## scrape vote outcomes in the 2018 parliamentary elections"
   ]
  },
  {
   "cell_type": "code",
   "execution_count": 34,
   "metadata": {},
   "outputs": [],
   "source": [
    "resp = requests.get(\"https://valtor.valasztas.hu/valtort/jsp/mkiv.jsp?EA=38&URL=7\")\n",
    "soup = BeautifulSoup(resp.content)"
   ]
  },
  {
   "cell_type": "code",
   "execution_count": 35,
   "metadata": {},
   "outputs": [],
   "source": [
    "counties = [\"https://valtor.valasztas.hu/valtort/jsp/\" + i.get(\"href\") for i in soup.find_all(\"a\")]"
   ]
  },
  {
   "cell_type": "code",
   "execution_count": 36,
   "metadata": {},
   "outputs": [],
   "source": [
    "constit = []\n",
    "for county in counties:\n",
    "    resp = requests.get(county)\n",
    "    soup = BeautifulSoup(resp.content)\n",
    "    constit = constit + [\n",
    "        \"https://valtor.valasztas.hu/valtort/jsp/\" + i.get(\"href\")\n",
    "        for i in soup.find_all(\"a\")\n",
    "    ]"
   ]
  },
  {
   "cell_type": "code",
   "execution_count": 37,
   "metadata": {},
   "outputs": [],
   "source": [
    "df = pd.DataFrame()\n",
    "\n",
    "for const in constit:\n",
    "\n",
    "    resp = requests.get(const)\n",
    "    soup = BeautifulSoup(resp.content)\n",
    "\n",
    "    df_c = pd.concat(pd.read_html(str(soup.find_all(\"table\")[-1]), header=0))\n",
    "    df_c[\"const\"] = \" \".join(\n",
    "        [\n",
    "            soup.find_all(\"font\", {\"size\": 4})[1].get_text(),\n",
    "            soup.find_all(\"font\", {\"size\": 3})[1].get_text(),\n",
    "        ]\n",
    "    )\n",
    "    df = pd.concat([df, df_c])\n",
    "    \n",
    "df[\"const\"] = df[\"const\"].str.replace(\"A választás eredményes\", \"BUDAPEST\")"
   ]
  },
  {
   "cell_type": "code",
   "execution_count": 38,
   "metadata": {},
   "outputs": [],
   "source": [
    "df.to_csv(data_dir +\"input/vote_outcomes_2018.csv\")"
   ]
  },
  {
   "cell_type": "code",
   "execution_count": null,
   "metadata": {},
   "outputs": [],
   "source": []
  }
 ],
 "metadata": {
  "kernelspec": {
   "display_name": "Python 3",
   "language": "python",
   "name": "python3"
  },
  "language_info": {
   "codemirror_mode": {
    "name": "ipython",
    "version": 3
   },
   "file_extension": ".py",
   "mimetype": "text/x-python",
   "name": "python",
   "nbconvert_exporter": "python",
   "pygments_lexer": "ipython3",
   "version": "3.8.6"
  }
 },
 "nbformat": 4,
 "nbformat_minor": 4
}
